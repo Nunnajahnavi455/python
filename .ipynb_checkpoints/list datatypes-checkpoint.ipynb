{
 "cells": [
  {
   "cell_type": "code",
   "execution_count": 1,
   "id": "a58ef958",
   "metadata": {},
   "outputs": [
    {
     "name": "stdout",
     "output_type": "stream",
     "text": [
      "[10, 20, 30, 40, 50]\n",
      "<class 'list'>\n"
     ]
    }
   ],
   "source": [
    "#create list object\n",
    "l1=[10,20,30,40,50]\n",
    "#read list object\n",
    "print(l1)\n",
    "print(type(l1))"
   ]
  },
  {
   "cell_type": "code",
   "execution_count": 2,
   "id": "5123414a",
   "metadata": {},
   "outputs": [
    {
     "name": "stdout",
     "output_type": "stream",
     "text": [
      "[10, 10, 10, 20.5, 'Rahul', True, [], {10}]\n",
      "<class 'list'>\n"
     ]
    }
   ],
   "source": [
    "l2=[10,10,10,20.5,\"Rahul\",True,[],{10}]\n",
    "print(l2)\n",
    "print(type(l2))"
   ]
  },
  {
   "cell_type": "code",
   "execution_count": 3,
   "id": "9566fa70",
   "metadata": {},
   "outputs": [
    {
     "name": "stdout",
     "output_type": "stream",
     "text": [
      "101\n",
      "102\n",
      "103\n",
      "104\n"
     ]
    }
   ],
   "source": [
    "eids=[101,102,103,104]\n",
    "#index 0 1 2 3\n",
    "#read list elements\n",
    "print(eids[0])\n",
    "print(eids[1])\n",
    "print(eids[2])\n",
    "print(eids[3])"
   ]
  },
  {
   "cell_type": "code",
   "execution_count": 4,
   "id": "3a9a5ed1",
   "metadata": {},
   "outputs": [
    {
     "name": "stdout",
     "output_type": "stream",
     "text": [
      "101\n",
      "104\n",
      "103\n",
      "102\n"
     ]
    }
   ],
   "source": [
    "eids=[101,102,103,104]\n",
    "#index 0 1 2 3\n",
    "#index-4-3-2-1\n",
    "#read list elements\n",
    "print(eids[0])\n",
    "print(eids[-1])\n",
    "print(eids[-2])\n",
    "print(eids[-3])"
   ]
  },
  {
   "cell_type": "code",
   "execution_count": 5,
   "id": "9480e301",
   "metadata": {},
   "outputs": [
    {
     "ename": "IndexError",
     "evalue": "list index out of range",
     "output_type": "error",
     "traceback": [
      "\u001b[1;31m---------------------------------------------------------------------------\u001b[0m",
      "\u001b[1;31mIndexError\u001b[0m                                Traceback (most recent call last)",
      "\u001b[1;32m~\\AppData\\Local\\Temp\\ipykernel_2960\\3800526064.py\u001b[0m in \u001b[0;36m<module>\u001b[1;34m\u001b[0m\n\u001b[0;32m      2\u001b[0m \u001b[1;31m#inde 0 1 2 3\u001b[0m\u001b[1;33m\u001b[0m\u001b[1;33m\u001b[0m\u001b[1;33m\u001b[0m\u001b[0m\n\u001b[0;32m      3\u001b[0m \u001b[1;31m#index-4-3-2-1\u001b[0m\u001b[1;33m\u001b[0m\u001b[1;33m\u001b[0m\u001b[1;33m\u001b[0m\u001b[0m\n\u001b[1;32m----> 4\u001b[1;33m \u001b[0mprint\u001b[0m\u001b[1;33m(\u001b[0m\u001b[0meids\u001b[0m\u001b[1;33m[\u001b[0m\u001b[1;36m10\u001b[0m\u001b[1;33m]\u001b[0m\u001b[1;33m)\u001b[0m\u001b[1;33m\u001b[0m\u001b[1;33m\u001b[0m\u001b[0m\n\u001b[0m",
      "\u001b[1;31mIndexError\u001b[0m: list index out of range"
     ]
    }
   ],
   "source": [
    "eids=[101,102,103,104]\n",
    "#inde 0 1 2 3\n",
    "#index-4-3-2-1\n",
    "print(eids[10])"
   ]
  },
  {
   "cell_type": "code",
   "execution_count": 7,
   "id": "cd48c3e8",
   "metadata": {},
   "outputs": [
    {
     "name": "stdout",
     "output_type": "stream",
     "text": [
      "Rahul\n",
      "Sonia\n",
      "Priyanka\n",
      "Modi\n"
     ]
    }
   ],
   "source": [
    "# List object using for loop\n",
    "enames=[\"Rahul\",\"Sonia\",\"Priyanka\",\"Modi\"]\n",
    "for ename in enames:\n",
    "    print(ename)"
   ]
  },
  {
   "cell_type": "code",
   "execution_count": 8,
   "id": "5818a3ef",
   "metadata": {},
   "outputs": [
    {
     "name": "stdout",
     "output_type": "stream",
     "text": [
      "Rahul\n",
      "Sonia\n",
      "Priyanka\n",
      "Modi\n"
     ]
    }
   ],
   "source": [
    "#List object using while loop\n",
    "i=0\n",
    "while i<=3:\n",
    "    print(enames[i])\n",
    "    i=i+1"
   ]
  },
  {
   "cell_type": "code",
   "execution_count": 10,
   "id": "c04f86a7",
   "metadata": {},
   "outputs": [
    {
     "name": "stdout",
     "output_type": "stream",
     "text": [
      "225\n"
     ]
    }
   ],
   "source": [
    "#list object using for loop\n",
    "#marks=[35,36,37,38,39,40]\n",
    "#print total marks using---forloop\n",
    "marks=[35,36,37,38,39,40]\n",
    "total_marks=0\n",
    "for mark in marks:\n",
    "    total_marks=total_marks+mark\n",
    "print(total_marks)\n"
   ]
  },
  {
   "cell_type": "code",
   "execution_count": 11,
   "id": "c7ca95f1",
   "metadata": {},
   "outputs": [
    {
     "name": "stdout",
     "output_type": "stream",
     "text": [
      "225\n"
     ]
    }
   ],
   "source": [
    "#List object using while loop\n",
    "marks=[35,36,37,38,39,40]\n",
    "#index  0  1  2  3  4  5\n",
    "total_marks=0\n",
    "i=0\n",
    "while i<=5:\n",
    "    total_marks=total_marks+marks[i]\n",
    "    i=i+1\n",
    "print(total_marks)\n"
   ]
  },
  {
   "cell_type": "code",
   "execution_count": null,
   "id": "25276aca",
   "metadata": {},
   "outputs": [],
   "source": []
  }
 ],
 "metadata": {
  "kernelspec": {
   "display_name": "Python 3 (ipykernel)",
   "language": "python",
   "name": "python3"
  },
  "language_info": {
   "codemirror_mode": {
    "name": "ipython",
    "version": 3
   },
   "file_extension": ".py",
   "mimetype": "text/x-python",
   "name": "python",
   "nbconvert_exporter": "python",
   "pygments_lexer": "ipython3",
   "version": "3.7.6"
  }
 },
 "nbformat": 4,
 "nbformat_minor": 5
}
