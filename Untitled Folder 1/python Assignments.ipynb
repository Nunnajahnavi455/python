{
 "cells": [
  {
   "cell_type": "code",
   "execution_count": null,
   "id": "c683356a",
   "metadata": {},
   "outputs": [],
   "source": [
    "#check if a number is  divisible by 7 or not?\n",
    "#check given number is 3-digit number or not\n",
    "num=int(input(\"enter number\"))\n",
    "if num>=100 and num<=999:\n",
    "    print(\"yes\")\n",
    "else:\n",
    "    print(\"not a number\")\n"
   ]
  }
 ],
 "metadata": {
  "kernelspec": {
   "display_name": "Python 3 (ipykernel)",
   "language": "python",
   "name": "python3"
  },
  "language_info": {
   "codemirror_mode": {
    "name": "ipython",
    "version": 3
   },
   "file_extension": ".py",
   "mimetype": "text/x-python",
   "name": "python",
   "nbconvert_exporter": "python",
   "pygments_lexer": "ipython3",
   "version": "3.7.6"
  }
 },
 "nbformat": 4,
 "nbformat_minor": 5
}
