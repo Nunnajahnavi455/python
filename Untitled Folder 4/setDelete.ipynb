{
 "cells": [
  {
   "cell_type": "code",
   "execution_count": 1,
   "id": "8784b2c4",
   "metadata": {},
   "outputs": [
    {
     "name": "stdout",
     "output_type": "stream",
     "text": [
      "{102, 103, 104, 105}\n"
     ]
    }
   ],
   "source": [
    "eids={101,102,103,104,105}\n",
    "eids.pop()\n",
    "print(eids)"
   ]
  },
  {
   "cell_type": "code",
   "execution_count": 5,
   "id": "4d9b66b5",
   "metadata": {},
   "outputs": [
    {
     "name": "stdout",
     "output_type": "stream",
     "text": [
      "{101, 103, 104, 105}\n"
     ]
    }
   ],
   "source": [
    "eids={101,102,103,104,105}\n",
    "eids.remove(102)\n",
    "print(eids)"
   ]
  },
  {
   "cell_type": "code",
   "execution_count": 8,
   "id": "d5119968",
   "metadata": {},
   "outputs": [
    {
     "name": "stdout",
     "output_type": "stream",
     "text": [
      "{101, 103, 104, 105}\n"
     ]
    }
   ],
   "source": [
    "eids={101,102,103,104,105}\n",
    "eids.discard(102)\n",
    "print(eids)"
   ]
  },
  {
   "cell_type": "code",
   "execution_count": 9,
   "id": "afa491e1",
   "metadata": {},
   "outputs": [
    {
     "name": "stdout",
     "output_type": "stream",
     "text": [
      "set()\n"
     ]
    }
   ],
   "source": [
    "eids={101,102,103,104,105}\n",
    "eids.clear()\n",
    "print(eids)"
   ]
  },
  {
   "cell_type": "code",
   "execution_count": null,
   "id": "1bb1f1d9",
   "metadata": {},
   "outputs": [],
   "source": []
  }
 ],
 "metadata": {
  "kernelspec": {
   "display_name": "Python 3 (ipykernel)",
   "language": "python",
   "name": "python3"
  },
  "language_info": {
   "codemirror_mode": {
    "name": "ipython",
    "version": 3
   },
   "file_extension": ".py",
   "mimetype": "text/x-python",
   "name": "python",
   "nbconvert_exporter": "python",
   "pygments_lexer": "ipython3",
   "version": "3.7.6"
  }
 },
 "nbformat": 4,
 "nbformat_minor": 5
}
