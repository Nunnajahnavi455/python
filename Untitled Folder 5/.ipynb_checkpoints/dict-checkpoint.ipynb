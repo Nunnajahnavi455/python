{
 "cells": [
  {
   "cell_type": "code",
   "execution_count": 1,
   "id": "b76b5d10",
   "metadata": {},
   "outputs": [
    {
     "name": "stdout",
     "output_type": "stream",
     "text": [
      "{}\n"
     ]
    }
   ],
   "source": [
    "d1={}\n",
    "print(d1)"
   ]
  },
  {
   "cell_type": "code",
   "execution_count": 2,
   "id": "89ef0ae7",
   "metadata": {},
   "outputs": [
    {
     "name": "stdout",
     "output_type": "stream",
     "text": [
      "<class 'dict'>\n"
     ]
    }
   ],
   "source": [
    "d1={}\n",
    "print(type(d1))"
   ]
  },
  {
   "cell_type": "code",
   "execution_count": 4,
   "id": "da15a23c",
   "metadata": {},
   "outputs": [
    {
     "name": "stdout",
     "output_type": "stream",
     "text": [
      "{'eid': 101, 'ename': 'Rahul', 'esal': 45000.45, 'avail': True}\n"
     ]
    }
   ],
   "source": [
    "#what is dict object? group of key:values are not entered\n",
    "#or\n",
    "#group of properties(property name and value)\n",
    "emp ={\n",
    "    'eid':101,\n",
    "    'ename':'Rahul',\n",
    "    'esal':45000.45,\n",
    "    'avail':True\n",
    "}\n",
    "print(emp)"
   ]
  },
  {
   "cell_type": "code",
   "execution_count": 6,
   "id": "c02e0002",
   "metadata": {},
   "outputs": [
    {
     "name": "stdout",
     "output_type": "stream",
     "text": [
      "{'eid': 104}\n"
     ]
    }
   ],
   "source": [
    "#List and tuple-duplicate elements are allowed\n",
    "#set-duplicate elements are not allowed\n",
    "#dict-duplicate key are not allowed\n",
    "emp ={\n",
    "    'eid':101,\n",
    "    'eid':102,\n",
    "    'eid':103,\n",
    "    'eid':104\n",
    "   \n",
    "}\n",
    "print(emp)"
   ]
  },
  {
   "cell_type": "code",
   "execution_count": 9,
   "id": "f2878796",
   "metadata": {},
   "outputs": [
    {
     "name": "stdout",
     "output_type": "stream",
     "text": [
      "101\n"
     ]
    }
   ],
   "source": [
    "emp ={\n",
    "    'eid':101,\n",
    "    'ename':'Rahul',\n",
    "    'esal':45000.45,\n",
    "    'avail':True\n",
    "}\n",
    "print(emp['eid'])"
   ]
  },
  {
   "cell_type": "code",
   "execution_count": 12,
   "id": "dff9d557",
   "metadata": {},
   "outputs": [
    {
     "name": "stdout",
     "output_type": "stream",
     "text": [
      "101\n",
      "Rahul\n",
      "45000.45\n",
      "True\n"
     ]
    }
   ],
   "source": [
    "emp={\n",
    "    'eid':101,\n",
    "    'ename':'Rahul',\n",
    "    'esal':45000.45,\n",
    "    'avail':True\n",
    "}\n",
    "# print all dict value?\n",
    "print(emp['eid'])\n",
    "print(emp['ename'])\n",
    "print(emp['esal'])\n",
    "print(emp['avail'])"
   ]
  },
  {
   "cell_type": "code",
   "execution_count": 13,
   "id": "0884e207",
   "metadata": {},
   "outputs": [
    {
     "name": "stdout",
     "output_type": "stream",
     "text": [
      "101\n",
      "Rahul\n",
      "45000.45\n",
      "True\n"
     ]
    }
   ],
   "source": [
    "emp={\n",
    "    'eid':101,\n",
    "    'ename':'Rahul',\n",
    "    'esal':45000.45,\n",
    "    'avail':True\n",
    "}\n",
    "print(emp.get('eid'))\n",
    "print(emp.get('ename'))\n",
    "print(emp.get('esal'))\n",
    "print(emp.get('avail'))"
   ]
  },
  {
   "cell_type": "code",
   "execution_count": 14,
   "id": "00254655",
   "metadata": {},
   "outputs": [
    {
     "name": "stdout",
     "output_type": "stream",
     "text": [
      "eid\n",
      "ename\n",
      "esal\n",
      "avail\n"
     ]
    }
   ],
   "source": [
    "#iterating dict object using keys\n",
    "for key in emp.keys():\n",
    "    print(key)"
   ]
  },
  {
   "cell_type": "code",
   "execution_count": 16,
   "id": "944db73b",
   "metadata": {},
   "outputs": [
    {
     "name": "stdout",
     "output_type": "stream",
     "text": [
      "101\n",
      "Rahul\n",
      "45000.45\n",
      "True\n"
     ]
    }
   ],
   "source": [
    "#print all values\n",
    "for value in emp.values():\n",
    "    print(value)"
   ]
  },
  {
   "cell_type": "code",
   "execution_count": 18,
   "id": "ddddb30e",
   "metadata": {},
   "outputs": [
    {
     "name": "stdout",
     "output_type": "stream",
     "text": [
      "eid 101\n",
      "ename Rahul\n",
      "esal 45000.45\n",
      "avail True\n"
     ]
    }
   ],
   "source": [
    "#print key & values\n",
    "for key,value in emp.items():\n",
    "    print(key,value)"
   ]
  },
  {
   "cell_type": "code",
   "execution_count": null,
   "id": "534deb50",
   "metadata": {},
   "outputs": [],
   "source": []
  }
 ],
 "metadata": {
  "kernelspec": {
   "display_name": "Python 3 (ipykernel)",
   "language": "python",
   "name": "python3"
  },
  "language_info": {
   "codemirror_mode": {
    "name": "ipython",
    "version": 3
   },
   "file_extension": ".py",
   "mimetype": "text/x-python",
   "name": "python",
   "nbconvert_exporter": "python",
   "pygments_lexer": "ipython3",
   "version": "3.7.6"
  }
 },
 "nbformat": 4,
 "nbformat_minor": 5
}
