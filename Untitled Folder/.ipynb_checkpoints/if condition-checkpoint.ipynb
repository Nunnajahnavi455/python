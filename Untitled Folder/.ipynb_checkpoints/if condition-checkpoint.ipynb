{
 "cells": [
  {
   "cell_type": "code",
   "execution_count": 1,
   "id": "f780e775",
   "metadata": {},
   "outputs": [
    {
     "name": "stdout",
     "output_type": "stream",
     "text": [
      "enter sal40000\n",
      "not eligible for M\n"
     ]
    }
   ],
   "source": [
    "sal= int(input(\"enter sal\"))\n",
    "if sal>40000:\n",
    "    print(\"eligible for M\")\n",
    "else:\n",
    "    print(\"not eligible for M\")"
   ]
  },
  {
   "cell_type": "code",
   "execution_count": 1,
   "id": "8966e0e4",
   "metadata": {},
   "outputs": [
    {
     "name": "stdout",
     "output_type": "stream",
     "text": [
      "enter sal40000\n",
      "not eligible for M\n"
     ]
    }
   ],
   "source": [
    "sal= int(input(\"enter sal\"))\n",
    "if sal>40000:\n",
    "    print(\"eligible for M\")\n",
    "else:\n",
    "    print(\"not eligible for M\")"
   ]
  },
  {
   "cell_type": "code",
   "execution_count": 7,
   "id": "69ce61bf",
   "metadata": {},
   "outputs": [
    {
     "name": "stdout",
     "output_type": "stream",
     "text": [
      "enter number101\n",
      "yes\n"
     ]
    }
   ],
   "source": [
    "#check given number is 3-digit number or not\n",
    "num=int(input(\"enter number\"))\n",
    "if num>=100 and num<=999:\n",
    "    print(\"yes\")\n",
    "else:\n",
    "    print(\"not a number\")\n"
   ]
  },
  {
   "cell_type": "code",
   "execution_count": 9,
   "id": "63d47ea4",
   "metadata": {},
   "outputs": [
    {
     "name": "stdout",
     "output_type": "stream",
     "text": [
      "enter number:105\n",
      "given number is a 3 digit number\n"
     ]
    }
   ],
   "source": [
    "#if-elif condition\n",
    "num= int(input(\"enter number:\"))\n",
    "if num >=100 and num<=999:\n",
    "    print(\"given number is a 3 digit number\")\n",
    "else:\n",
    "    print(\"given number is not a 3 digit number\")"
   ]
  },
  {
   "cell_type": "code",
   "execution_count": null,
   "id": "824a5f53",
   "metadata": {},
   "outputs": [],
   "source": []
  }
 ],
 "metadata": {
  "kernelspec": {
   "display_name": "Python 3 (ipykernel)",
   "language": "python",
   "name": "python3"
  },
  "language_info": {
   "codemirror_mode": {
    "name": "ipython",
    "version": 3
   },
   "file_extension": ".py",
   "mimetype": "text/x-python",
   "name": "python",
   "nbconvert_exporter": "python",
   "pygments_lexer": "ipython3",
   "version": "3.7.6"
  }
 },
 "nbformat": 4,
 "nbformat_minor": 5
}
