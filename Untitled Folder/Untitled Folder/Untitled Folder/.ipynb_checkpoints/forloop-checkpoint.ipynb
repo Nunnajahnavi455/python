{
 "cells": [
  {
   "cell_type": "code",
   "execution_count": 1,
   "id": "9e4f8f26",
   "metadata": {},
   "outputs": [],
   "source": [
    "#print 'GM'-20 times\n",
    "#print 10-50\n",
    "#print first 10 even numbers\n",
    "#print 100-1\n",
    "#print 5 table\n"
   ]
  },
  {
   "cell_type": "code",
   "execution_count": 2,
   "id": "eee6bfce",
   "metadata": {},
   "outputs": [
    {
     "name": "stdout",
     "output_type": "stream",
     "text": [
      "GM\n",
      "GM\n",
      "GM\n",
      "GM\n",
      "GM\n",
      "GM\n",
      "GM\n",
      "GM\n",
      "GM\n",
      "GM\n",
      "GM\n",
      "GM\n",
      "GM\n",
      "GM\n",
      "GM\n",
      "GM\n",
      "GM\n",
      "GM\n",
      "GM\n",
      "GM\n"
     ]
    }
   ],
   "source": [
    "#print 'GM'-20 times\n",
    "for ele in range(20):\n",
    "    print('GM')"
   ]
  },
  {
   "cell_type": "code",
   "execution_count": 4,
   "id": "979bf6e8",
   "metadata": {},
   "outputs": [
    {
     "name": "stdout",
     "output_type": "stream",
     "text": [
      "10\n",
      "11\n",
      "12\n",
      "13\n",
      "14\n",
      "15\n",
      "16\n",
      "17\n",
      "18\n",
      "19\n",
      "20\n",
      "21\n",
      "22\n",
      "23\n",
      "24\n",
      "25\n",
      "26\n",
      "27\n",
      "28\n",
      "29\n",
      "30\n",
      "31\n",
      "32\n",
      "33\n",
      "34\n",
      "35\n",
      "36\n",
      "37\n",
      "38\n",
      "39\n",
      "40\n",
      "41\n",
      "42\n",
      "43\n",
      "44\n",
      "45\n",
      "46\n",
      "47\n",
      "48\n",
      "49\n",
      "50\n"
     ]
    }
   ],
   "source": [
    "#print 10-50\n",
    "for ele in range(10,51,1):\n",
    "       print(ele)"
   ]
  },
  {
   "cell_type": "code",
   "execution_count": 6,
   "id": "8ba3cabd",
   "metadata": {},
   "outputs": [
    {
     "name": "stdout",
     "output_type": "stream",
     "text": [
      "0\n",
      "2\n",
      "4\n",
      "6\n",
      "8\n",
      "10\n",
      "12\n",
      "14\n",
      "16\n",
      "18\n"
     ]
    }
   ],
   "source": [
    "#print first 10 even numbers\n",
    "for i in range(0,19,2):\n",
    "    print(i)"
   ]
  },
  {
   "cell_type": "code",
   "execution_count": 7,
   "id": "1c7238cb",
   "metadata": {},
   "outputs": [
    {
     "name": "stdout",
     "output_type": "stream",
     "text": [
      "100\n",
      "99\n",
      "98\n",
      "97\n",
      "96\n",
      "95\n",
      "94\n",
      "93\n",
      "92\n",
      "91\n",
      "90\n",
      "89\n",
      "88\n",
      "87\n",
      "86\n",
      "85\n",
      "84\n",
      "83\n",
      "82\n",
      "81\n",
      "80\n",
      "79\n",
      "78\n",
      "77\n",
      "76\n",
      "75\n",
      "74\n",
      "73\n",
      "72\n",
      "71\n",
      "70\n",
      "69\n",
      "68\n",
      "67\n",
      "66\n",
      "65\n",
      "64\n",
      "63\n",
      "62\n",
      "61\n",
      "60\n",
      "59\n",
      "58\n",
      "57\n",
      "56\n",
      "55\n",
      "54\n",
      "53\n",
      "52\n",
      "51\n",
      "50\n",
      "49\n",
      "48\n",
      "47\n",
      "46\n",
      "45\n",
      "44\n",
      "43\n",
      "42\n",
      "41\n",
      "40\n",
      "39\n",
      "38\n",
      "37\n",
      "36\n",
      "35\n",
      "34\n",
      "33\n",
      "32\n",
      "31\n",
      "30\n",
      "29\n",
      "28\n",
      "27\n",
      "26\n",
      "25\n",
      "24\n",
      "23\n",
      "22\n",
      "21\n",
      "20\n",
      "19\n",
      "18\n",
      "17\n",
      "16\n",
      "15\n",
      "14\n",
      "13\n",
      "12\n",
      "11\n",
      "10\n",
      "9\n",
      "8\n",
      "7\n",
      "6\n",
      "5\n",
      "4\n",
      "3\n",
      "2\n",
      "1\n"
     ]
    }
   ],
   "source": [
    "#print 100-1\n",
    "for i in range(100,0,-1):\n",
    "    print(i)"
   ]
  },
  {
   "cell_type": "code",
   "execution_count": 8,
   "id": "44869936",
   "metadata": {},
   "outputs": [
    {
     "name": "stdout",
     "output_type": "stream",
     "text": [
      "5* 1 = 5\n",
      "5* 2 = 10\n",
      "5* 3 = 15\n",
      "5* 4 = 20\n",
      "5* 5 = 25\n",
      "5* 6 = 30\n",
      "5* 7 = 35\n",
      "5* 8 = 40\n",
      "5* 9 = 45\n",
      "5* 10 = 50\n"
     ]
    }
   ],
   "source": [
    "#print 5 table\n",
    "for i in range(1,11,1):\n",
    "    print(\"5*\",i,\"=\",5*i)"
   ]
  },
  {
   "cell_type": "code",
   "execution_count": 11,
   "id": "74e1edaa",
   "metadata": {},
   "outputs": [
    {
     "name": "stdout",
     "output_type": "stream",
     "text": [
      "100  99  98  97  96  95  94  93  92  91  90  89  88  87  86  85  84  83  82  81  80  79  78  77  76  75  74  73  72  71  70  69  68  67  66  65  64  63  62  61  60  59  58  57  56  55  54  53  52  51  50  49  48  47  46  45  44  43  42  41  40  39  38  37  36  35  34  33  32  31  30  29  28  27  26  25  24  23  22  21  20  19  18  17  16  15  14  13  12  11  10  9  8  7  6  5  4  3  2  1  "
     ]
    }
   ],
   "source": [
    "#print 100-1\n",
    "\n",
    "for i in range(100,0,-1):\n",
    "\n",
    "     print(i,end='  ')"
   ]
  },
  {
   "cell_type": "code",
   "execution_count": null,
   "id": "7f5d9ebd",
   "metadata": {},
   "outputs": [],
   "source": [
    "#print 1,2,3,4,6,7,8,9,10  ( here we use continue key word it is used to skip continuos iteration and move to next iteration)\n",
    "i=1\n",
    "while i<=10:\n",
    "     if i==5:\n",
    "        continue\n",
    "\n",
    "         print(i)\n",
    "    i=i+1\n",
    "    "
   ]
  },
  {
   "cell_type": "code",
   "execution_count": null,
   "id": "8ad6fc30",
   "metadata": {},
   "outputs": [],
   "source": [
    "i=1\n",
    "while i<=10:\n",
    "    if i==5:\n",
    "        pass\n",
    "    else:\n",
    "        print(i)\n",
    "    i=i+1"
   ]
  },
  {
   "cell_type": "code",
   "execution_count": null,
   "id": "8d3acbeb",
   "metadata": {},
   "outputs": [],
   "source": [
    "for i in range(1,11):\n",
    "    if i==5:\n",
    "        continue\n",
    "    print(i)"
   ]
  },
  {
   "cell_type": "code",
   "execution_count": null,
   "id": "6216dd15",
   "metadata": {},
   "outputs": [],
   "source": [
    "#print *\n",
    "#      **\n",
    "#      ***\n",
    "        \n",
    "for i in range(1,5)\n",
    "     for j in range(i+1):\n",
    "        print(\"*\",end=\"\")\n",
    "    print()"
   ]
  },
  {
   "cell_type": "code",
   "execution_count": null,
   "id": "da64c0e8",
   "metadata": {},
   "outputs": [],
   "source": [
    "#print A\n",
    "#      A B \n",
    "#      A B C\n",
    "#      A B C D"
   ]
  },
  {
   "cell_type": "code",
   "execution_count": null,
   "id": "593eccf5",
   "metadata": {},
   "outputs": [],
   "source": []
  }
 ],
 "metadata": {
  "kernelspec": {
   "display_name": "Python 3 (ipykernel)",
   "language": "python",
   "name": "python3"
  },
  "language_info": {
   "codemirror_mode": {
    "name": "ipython",
    "version": 3
   },
   "file_extension": ".py",
   "mimetype": "text/x-python",
   "name": "python",
   "nbconvert_exporter": "python",
   "pygments_lexer": "ipython3",
   "version": "3.7.6"
  }
 },
 "nbformat": 4,
 "nbformat_minor": 5
}
