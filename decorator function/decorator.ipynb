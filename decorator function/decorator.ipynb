{
 "cells": [
  {
   "cell_type": "code",
   "execution_count": 1,
   "id": "1a547e9d",
   "metadata": {},
   "outputs": [
    {
     "name": "stdout",
     "output_type": "stream",
     "text": [
      "outer function\n",
      "inner function\n",
      "inner function\n"
     ]
    }
   ],
   "source": [
    "def outer():\n",
    "    print('outer function')\n",
    "    \n",
    "    def inner():\n",
    "        print('inner function')\n",
    "        \n",
    "    inner()\n",
    "    inner()\n",
    "outer()"
   ]
  },
  {
   "cell_type": "code",
   "execution_count": 4,
   "id": "c7b5480e",
   "metadata": {},
   "outputs": [
    {
     "name": "stdout",
     "output_type": "stream",
     "text": [
      "outer function\n",
      "100\n"
     ]
    }
   ],
   "source": [
    "def outer():\n",
    "    print('outer function')\n",
    "    \n",
    "    def inner():\n",
    "        print('inner function')\n",
    "        \n",
    "    return 100\n",
    "        \n",
    "    \n",
    "x=outer()\n",
    "print(x)\n",
    "# inner() #how to execute inner function-from outside"
   ]
  },
  {
   "cell_type": "code",
   "execution_count": 5,
   "id": "d87379b4",
   "metadata": {},
   "outputs": [
    {
     "name": "stdout",
     "output_type": "stream",
     "text": [
      "outer function\n",
      "None\n"
     ]
    }
   ],
   "source": [
    "#invoking a fucnction\n",
    "def outer():\n",
    "    print('outer function')\n",
    "    \n",
    "    def inner():\n",
    "        print('inner function')\n",
    "        \n",
    "    return \n",
    "        \n",
    "    \n",
    "x=outer()\n",
    "print(x)"
   ]
  },
  {
   "cell_type": "code",
   "execution_count": 7,
   "id": "aa58359a",
   "metadata": {},
   "outputs": [
    {
     "name": "stdout",
     "output_type": "stream",
     "text": [
      "Home page\n",
      "about page\n",
      "order page\n"
     ]
    }
   ],
   "source": [
    "#decorator function \n",
    "def home_page(name,islogin):\n",
    "    print(\"Home page\") \n",
    "def about_page(name,islogin):\n",
    "    print(\"about page\")\n",
    "# @login_required\n",
    "def order_page(name,islogin):\n",
    "    print(\"order page\")\n",
    "    \n",
    "home_page(\"Rahul\",False)\n",
    "about_page(\"Rahul\",False)\n",
    "order_page(\"Rahul\",False)"
   ]
  },
  {
   "cell_type": "code",
   "execution_count": 8,
   "id": "4d81cd42",
   "metadata": {},
   "outputs": [
    {
     "ename": "NameError",
     "evalue": "name 'login_required' is not defined",
     "output_type": "error",
     "traceback": [
      "\u001b[1;31m---------------------------------------------------------------------------\u001b[0m",
      "\u001b[1;31mNameError\u001b[0m                                 Traceback (most recent call last)",
      "\u001b[1;32m~\\AppData\\Local\\Temp\\ipykernel_14520\\535358835.py\u001b[0m in \u001b[0;36m<module>\u001b[1;34m\u001b[0m\n\u001b[0;32m      2\u001b[0m \u001b[1;32mdef\u001b[0m \u001b[0mhome_page\u001b[0m\u001b[1;33m(\u001b[0m\u001b[0mname\u001b[0m\u001b[1;33m,\u001b[0m\u001b[0mis_login\u001b[0m\u001b[1;33m)\u001b[0m\u001b[1;33m:\u001b[0m\u001b[1;33m\u001b[0m\u001b[1;33m\u001b[0m\u001b[0m\n\u001b[0;32m      3\u001b[0m     \u001b[0mprint\u001b[0m\u001b[1;33m(\u001b[0m\u001b[1;34m\"Home page\"\u001b[0m\u001b[1;33m)\u001b[0m\u001b[1;33m\u001b[0m\u001b[1;33m\u001b[0m\u001b[0m\n\u001b[1;32m----> 4\u001b[1;33m \u001b[1;33m@\u001b[0m\u001b[0mlogin_required\u001b[0m\u001b[1;33m\u001b[0m\u001b[1;33m\u001b[0m\u001b[0m\n\u001b[0m\u001b[0;32m      5\u001b[0m \u001b[1;32mdef\u001b[0m \u001b[0mabout_page\u001b[0m\u001b[1;33m(\u001b[0m\u001b[0mname\u001b[0m\u001b[1;33m,\u001b[0m\u001b[0mis_login\u001b[0m\u001b[1;33m)\u001b[0m\u001b[1;33m:\u001b[0m\u001b[1;33m\u001b[0m\u001b[1;33m\u001b[0m\u001b[0m\n\u001b[0;32m      6\u001b[0m     \u001b[0mprint\u001b[0m\u001b[1;33m(\u001b[0m\u001b[1;34m\"about page\"\u001b[0m\u001b[1;33m)\u001b[0m\u001b[1;33m\u001b[0m\u001b[1;33m\u001b[0m\u001b[0m\n",
      "\u001b[1;31mNameError\u001b[0m: name 'login_required' is not defined"
     ]
    }
   ],
   "source": [
    "#decorator function \n",
    "def login_required(func):\n",
    "    def inner(name,is_login):\n",
    "        if is_login ==False:\n",
    "            print(\"login is required\")\n",
    "        else:\n",
    "            func(name,is_login)\n",
    "    return inner\n",
    "\n",
    "\n",
    "\n",
    "\n",
    "def home_page(name,is_login):\n",
    "    print(\"Home page\")\n",
    "@login_required\n",
    "def about_page(name,is_login):\n",
    "    print(\"about page\")\n",
    "@login_required\n",
    "def order_page(name,is_login):\n",
    "    print(\"order page\")\n",
    "    \n",
    "home_page(\"Rahul\",False)\n",
    "about_page(\"Rahul\",False)\n",
    "order_page(\"Rahul\",False)"
   ]
  },
  {
   "cell_type": "code",
   "execution_count": 5,
   "id": "b5f674ca",
   "metadata": {},
   "outputs": [
    {
     "name": "stdout",
     "output_type": "stream",
     "text": [
      "Home Page\n"
     ]
    }
   ],
   "source": [
    "#decorator is function,it take function as arg;it modifies functionality based on req.it return the modified function.\n",
    "def home_page(islogin):\n",
    "    print(\"Home Page\")\n",
    "home_page(False)"
   ]
  },
  {
   "cell_type": "code",
   "execution_count": 10,
   "id": "ed3cf783",
   "metadata": {},
   "outputs": [
    {
     "name": "stdout",
     "output_type": "stream",
     "text": [
      "Home Page\n",
      "order_page\n"
     ]
    }
   ],
   "source": [
    "def login_required(func):\n",
    "    def inner(is_login):\n",
    "        if is_login ==False:\n",
    "            print(\"login is required\")\n",
    "        else:\n",
    "            func(is_login)\n",
    "    return inner\n",
    "\n",
    "def home_page(islogin):\n",
    "    print(\"Home Page\")\n",
    "home_page(False)\n",
    "def order_page(islogin):\n",
    "    print(\"order_page\")\n",
    "order_page(True)\n"
   ]
  },
  {
   "cell_type": "code",
   "execution_count": 14,
   "id": "69ed0b31",
   "metadata": {},
   "outputs": [
    {
     "ename": "NameError",
     "evalue": "name 'testcase' is not defined",
     "output_type": "error",
     "traceback": [
      "\u001b[1;31m---------------------------------------------------------------------------\u001b[0m",
      "\u001b[1;31mNameError\u001b[0m                                 Traceback (most recent call last)",
      "\u001b[1;32m~\\AppData\\Local\\Temp\\ipykernel_10152\\2577873616.py\u001b[0m in \u001b[0;36m<module>\u001b[1;34m\u001b[0m\n\u001b[1;32m----> 1\u001b[1;33m \u001b[1;33m@\u001b[0m\u001b[0mtestcase\u001b[0m\u001b[1;33m\u001b[0m\u001b[1;33m\u001b[0m\u001b[0m\n\u001b[0m\u001b[0;32m      2\u001b[0m \u001b[1;32mdef\u001b[0m \u001b[0mcalc\u001b[0m\u001b[1;33m(\u001b[0m\u001b[0ma\u001b[0m\u001b[1;33m,\u001b[0m\u001b[0mb\u001b[0m\u001b[1;33m)\u001b[0m\u001b[1;33m:\u001b[0m\u001b[1;33m\u001b[0m\u001b[1;33m\u001b[0m\u001b[0m\n\u001b[0;32m      3\u001b[0m     \u001b[0mprint\u001b[0m\u001b[1;33m(\u001b[0m\u001b[0ma\u001b[0m\u001b[1;33m/\u001b[0m\u001b[0mb\u001b[0m\u001b[1;33m)\u001b[0m\u001b[1;33m\u001b[0m\u001b[1;33m\u001b[0m\u001b[0m\n\u001b[0;32m      4\u001b[0m \u001b[0mcalc\u001b[0m\u001b[1;33m(\u001b[0m\u001b[1;36m10\u001b[0m\u001b[1;33m,\u001b[0m\u001b[1;36m2\u001b[0m\u001b[1;33m)\u001b[0m\u001b[1;33m\u001b[0m\u001b[1;33m\u001b[0m\u001b[0m\n\u001b[0;32m      5\u001b[0m \u001b[0mcalc\u001b[0m\u001b[1;33m(\u001b[0m\u001b[1;36m10\u001b[0m\u001b[1;33m,\u001b[0m\u001b[1;36m0\u001b[0m\u001b[1;33m)\u001b[0m\u001b[1;33m\u001b[0m\u001b[1;33m\u001b[0m\u001b[0m\n",
      "\u001b[1;31mNameError\u001b[0m: name 'testcase' is not defined"
     ]
    }
   ],
   "source": [
    "@testcase\n",
    "def calc(a,b):\n",
    "    print(a/b)\n",
    "calc(10,2)\n",
    "calc(10,0)\n"
   ]
  },
  {
   "cell_type": "code",
   "execution_count": 17,
   "id": "7f5516ab",
   "metadata": {},
   "outputs": [
    {
     "name": "stdout",
     "output_type": "stream",
     "text": [
      "5.0\n",
      "can't Divide by zero\n"
     ]
    }
   ],
   "source": [
    "#example\n",
    "def testcase(func):\n",
    "    def inner(a,b):\n",
    "        if b==0:\n",
    "            print(\"can't Divide by zero\")\n",
    "        else:\n",
    "            return func(a,b)\n",
    "    return inner\n",
    "    \n",
    "@testcase\n",
    "def calc(a,b):\n",
    "    print(a/b)\n",
    "    \n",
    "    \n",
    "calc(10,2)\n",
    "calc(10,0)\n"
   ]
  },
  {
   "cell_type": "code",
   "execution_count": 27,
   "id": "b8f39ceb",
   "metadata": {},
   "outputs": [
    {
     "name": "stdout",
     "output_type": "stream",
     "text": [
      "Home Page\n",
      "order_page\n",
      "about_page\n"
     ]
    }
   ],
   "source": [
    "def login_required(func):\n",
    "    def inner(name,is_login):\n",
    "        if is_login ==False:\n",
    "            print(\"login is required\")\n",
    "        else:\n",
    "            func(name,is_login)\n",
    "    return inner\n",
    "def home_page(name,islogin):\n",
    "        print(\"Home Page\")\n",
    "# @login_requried\n",
    "def order_page(name,islogin):\n",
    "        print(\"order_page\")\n",
    "# @login_requried\n",
    "\n",
    "def about_page(name,islogin):\n",
    "        print(\"about_page\")\n",
    "home_page(\"Rahul\",False)\n",
    "order_page(\"Rahul\",False)\n",
    "about_page(\"Rahul\",False)\n"
   ]
  },
  {
   "cell_type": "code",
   "execution_count": 30,
   "id": "4697e62e",
   "metadata": {},
   "outputs": [
    {
     "name": "stdout",
     "output_type": "stream",
     "text": [
      "outer Function\n",
      "Inner Function\n"
     ]
    }
   ],
   "source": [
    "#example\n",
    "def outer():\n",
    "    print(\"outer Function\")\n",
    "    def inner():\n",
    "        print(\"Inner Function\")\n",
    "    return inner\n",
    "inner=outer()\n",
    "inner()"
   ]
  },
  {
   "cell_type": "code",
   "execution_count": 34,
   "id": "fbe3e522",
   "metadata": {},
   "outputs": [
    {
     "name": "stdout",
     "output_type": "stream",
     "text": [
      "Home page\n",
      "about page\n",
      "login req\n",
      "profile page\n"
     ]
    }
   ],
   "source": [
    "def login_req(func):\n",
    "    def inner(name,islogin):\n",
    "        if islogin ==False:\n",
    "            print('login req')\n",
    "        else:\n",
    "            return func(name,islogin)\n",
    "    return inner\n",
    "def home_page(name,islogin):\n",
    "    print(\"Home page\")\n",
    "def about_page(name,islogin):\n",
    "        print(\"about page\")\n",
    "@login_req\n",
    "def order_page(name,islogin):\n",
    "        print(\"order page\")\n",
    "@login_req\n",
    "def profile_page(name,islogin):\n",
    "        print(\"profile page\")\n",
    "home_page(\"Rahul\",False)\n",
    "about_page(\"Rahul\",True)\n",
    "order_page(\"Rahul\",False)\n",
    "profile_page(\"Rahul\",True)"
   ]
  },
  {
   "cell_type": "code",
   "execution_count": 42,
   "id": "400ef4ec",
   "metadata": {},
   "outputs": [
    {
     "data": {
      "text/plain": [
       "'HiSONIA'"
      ]
     },
     "execution_count": 42,
     "metadata": {},
     "output_type": "execute_result"
    }
   ],
   "source": [
    "def change_case(func):\n",
    "    def inner(name):\n",
    "        return \"Hi\"+name.upper()\n",
    "    return inner\n",
    "@change_case\n",
    "def display(name):\n",
    "    print(name)\n",
    "display(\"Rahul\")\n",
    "display(\"Sonia\")"
   ]
  },
  {
   "cell_type": "code",
   "execution_count": 43,
   "id": "37b4fd26",
   "metadata": {},
   "outputs": [
    {
     "name": "stdout",
     "output_type": "stream",
     "text": [
      "2.0\n",
      "10.0\n",
      "GM\n"
     ]
    }
   ],
   "source": [
    "def calc(a,b):\n",
    "    print(a/b)\n",
    "calc(10,5)\n",
    "calc(10,1)\n",
    "print(\"GM\")"
   ]
  },
  {
   "cell_type": "code",
   "execution_count": 45,
   "id": "7ebf6172",
   "metadata": {},
   "outputs": [
    {
     "name": "stdout",
     "output_type": "stream",
     "text": [
      "2.0\n",
      "can't Divide by zero\n",
      "GM\n"
     ]
    }
   ],
   "source": [
    "def testcase(func):\n",
    "    def inner(a,b):\n",
    "        if b==0:\n",
    "            print(\"can't Divide by zero\")\n",
    "        else:\n",
    "            return func(a,b)\n",
    "    return inner\n",
    "@testcase\n",
    "def calc(a,b):\n",
    "    print(a/b)\n",
    "calc(10,5)\n",
    "calc(10,0)\n",
    "print(\"GM\")"
   ]
  },
  {
   "cell_type": "code",
   "execution_count": 1,
   "id": "6c594f14",
   "metadata": {},
   "outputs": [
    {
     "name": "stdout",
     "output_type": "stream",
     "text": [
      "HiRAHUL\n",
      "HiYASIN\n",
      "HiPRIYA\n"
     ]
    }
   ],
   "source": [
    "#example\n",
    "def change_case(func):\n",
    "    def inner(name):\n",
    "        return func(\"Hi\"+name.upper())\n",
    "    return inner\n",
    "@change_case\n",
    "def display(name):\n",
    "    print(name)\n",
    "display(\"rahul\")\n",
    "display(\"yasin\")\n",
    "display(\"priya\")"
   ]
  },
  {
   "cell_type": "code",
   "execution_count": null,
   "id": "c3fc223d",
   "metadata": {},
   "outputs": [],
   "source": []
  },
  {
   "cell_type": "code",
   "execution_count": null,
   "id": "ded78a4a",
   "metadata": {},
   "outputs": [],
   "source": []
  }
 ],
 "metadata": {
  "kernelspec": {
   "display_name": "Python 3 (ipykernel)",
   "language": "python",
   "name": "python3"
  },
  "language_info": {
   "codemirror_mode": {
    "name": "ipython",
    "version": 3
   },
   "file_extension": ".py",
   "mimetype": "text/x-python",
   "name": "python",
   "nbconvert_exporter": "python",
   "pygments_lexer": "ipython3",
   "version": "3.7.6"
  }
 },
 "nbformat": 4,
 "nbformat_minor": 5
}
