{
 "cells": [
  {
   "cell_type": "code",
   "execution_count": 1,
   "id": "6322311b",
   "metadata": {},
   "outputs": [],
   "source": [
    "#create\n",
    "emp={\n",
    "    'id':10,\n",
    "    'ename':'Rahul',\n",
    "    'esal':45000\n",
    "}"
   ]
  },
  {
   "cell_type": "code",
   "execution_count": 3,
   "id": "ea693122",
   "metadata": {},
   "outputs": [
    {
     "name": "stdout",
     "output_type": "stream",
     "text": [
      "10\n",
      "None\n"
     ]
    }
   ],
   "source": [
    "#How to access read dict values?\n",
    "print(emp['id'])\n",
    "print(emp.get('eid'))\n",
    "#emp.get(it return the value of specified key)"
   ]
  },
  {
   "cell_type": "code",
   "execution_count": 5,
   "id": "00dbda88",
   "metadata": {},
   "outputs": [
    {
     "name": "stdout",
     "output_type": "stream",
     "text": [
      "10\n",
      "10\n"
     ]
    }
   ],
   "source": [
    "#How to access read dict values?\n",
    "emp={\n",
    "    'eid':10,\n",
    "    'ename':'Rahul',\n",
    "    'esal':45000\n",
    "}\n",
    "print(emp['eid'])\n",
    "print(emp.get('eid'))"
   ]
  },
  {
   "cell_type": "code",
   "execution_count": 7,
   "id": "d111c898",
   "metadata": {},
   "outputs": [
    {
     "name": "stdout",
     "output_type": "stream",
     "text": [
      "101\n",
      "101\n"
     ]
    }
   ],
   "source": [
    "emp={\n",
    "    'eid':101,\n",
    "    'ename':\"Rahul\",\n",
    "    'esal':45000\n",
    "}\n",
    "#how to read dict values\n",
    "print(emp['eid'])\n",
    "print(emp.get('eid'))"
   ]
  },
  {
   "cell_type": "code",
   "execution_count": 8,
   "id": "2e0c38e2",
   "metadata": {},
   "outputs": [
    {
     "name": "stdout",
     "output_type": "stream",
     "text": [
      "101\n",
      "101\n",
      "<class 'dict_keys'>\n"
     ]
    }
   ],
   "source": [
    "#print all keys\n",
    "emp={\n",
    "    'eid':101,\n",
    "    'ename':\"Rahul\",\n",
    "    'esal':45000\n",
    "}\n",
    "print(emp['eid'])\n",
    "print(emp.get('eid'))\n",
    "print(type(emp.keys()))"
   ]
  },
  {
   "cell_type": "code",
   "execution_count": 9,
   "id": "4f676121",
   "metadata": {},
   "outputs": [
    {
     "name": "stdout",
     "output_type": "stream",
     "text": [
      "dict_values([101, 'Rahul', 45000])\n",
      "<class 'dict_values'>\n"
     ]
    }
   ],
   "source": [
    "#print all  values\n",
    "emp={\n",
    "    'eid':101,\n",
    "    'ename':\"Rahul\",\n",
    "    'esal':45000\n",
    "}\n",
    "print(emp.values())\n",
    "print(type(emp.values()))"
   ]
  },
  {
   "cell_type": "code",
   "execution_count": 10,
   "id": "0651d86d",
   "metadata": {},
   "outputs": [
    {
     "name": "stdout",
     "output_type": "stream",
     "text": [
      "eid\n",
      "ename\n",
      "esal\n"
     ]
    }
   ],
   "source": [
    "#print all keys\n",
    "emp={\n",
    "    'eid':101,\n",
    "    'ename':\"Rahul\",\n",
    "    'esal':45000\n",
    "}\n",
    "for key in emp.keys():\n",
    "    print(key)"
   ]
  },
  {
   "cell_type": "code",
   "execution_count": 12,
   "id": "908981e3",
   "metadata": {},
   "outputs": [
    {
     "name": "stdout",
     "output_type": "stream",
     "text": [
      "101\n",
      "Rahul\n",
      "45000\n"
     ]
    }
   ],
   "source": [
    "#print all values using for -loop\n",
    "for value in emp.values():\n",
    "    print(value)"
   ]
  },
  {
   "cell_type": "code",
   "execution_count": 13,
   "id": "e4a37b21",
   "metadata": {},
   "outputs": [
    {
     "name": "stdout",
     "output_type": "stream",
     "text": [
      "********\n",
      "eid : 101\n",
      "ename : Rahul\n",
      "esal : 45000\n"
     ]
    }
   ],
   "source": [
    "print(\"********\")\n",
    "for key,value in emp.items():\n",
    "    print(key,\":\",value)"
   ]
  },
  {
   "cell_type": "code",
   "execution_count": 14,
   "id": "bc97d6d8",
   "metadata": {},
   "outputs": [
    {
     "name": "stdout",
     "output_type": "stream",
     "text": [
      "{'name': 'Rahul Gandhi'}\n"
     ]
    }
   ],
   "source": [
    "# dic update method:-\n",
    "emp={}\n",
    "emp['name']=\"Rahul\"\n",
    "emp['name']=\"Rahul Gandhi\"\n",
    "print(emp) #{name :'Rahul Gandhi'}"
   ]
  },
  {
   "cell_type": "code",
   "execution_count": 15,
   "id": "6a73e289",
   "metadata": {},
   "outputs": [
    {
     "ename": "TypeError",
     "evalue": "update expected at most 1 arguments, got 2",
     "output_type": "error",
     "traceback": [
      "\u001b[1;31m---------------------------------------------------------------------------\u001b[0m",
      "\u001b[1;31mTypeError\u001b[0m                                 Traceback (most recent call last)",
      "\u001b[1;32m~\\AppData\\Local\\Temp\\ipykernel_20556\\2774508916.py\u001b[0m in \u001b[0;36m<module>\u001b[1;34m\u001b[0m\n\u001b[0;32m      1\u001b[0m \u001b[0memp\u001b[0m\u001b[1;33m=\u001b[0m\u001b[1;33m{\u001b[0m\u001b[1;34m'name'\u001b[0m\u001b[1;33m:\u001b[0m\u001b[1;34m'Rahul Gandhi'\u001b[0m\u001b[1;33m}\u001b[0m\u001b[1;33m\u001b[0m\u001b[1;33m\u001b[0m\u001b[0m\n\u001b[1;32m----> 2\u001b[1;33m \u001b[0memp\u001b[0m\u001b[1;33m.\u001b[0m\u001b[0mupdate\u001b[0m\u001b[1;33m(\u001b[0m\u001b[1;34m'eid'\u001b[0m\u001b[1;33m,\u001b[0m\u001b[1;36m101\u001b[0m\u001b[1;33m)\u001b[0m\u001b[1;33m\u001b[0m\u001b[1;33m\u001b[0m\u001b[0m\n\u001b[0m\u001b[0;32m      3\u001b[0m \u001b[0mprint\u001b[0m\u001b[1;33m(\u001b[0m\u001b[0memp\u001b[0m\u001b[1;33m)\u001b[0m\u001b[1;33m\u001b[0m\u001b[1;33m\u001b[0m\u001b[0m\n",
      "\u001b[1;31mTypeError\u001b[0m: update expected at most 1 arguments, got 2"
     ]
    }
   ],
   "source": [
    "emp={'name':'Rahul Gandhi'}\n",
    "emp.update('eid',101)\n",
    "print(emp)"
   ]
  },
  {
   "cell_type": "code",
   "execution_count": 16,
   "id": "0174633c",
   "metadata": {},
   "outputs": [
    {
     "name": "stdout",
     "output_type": "stream",
     "text": [
      "{'name': 'Rahul Gandhi'}\n",
      "{'name': 'Rahul Gandhi', 'eid': 101}\n"
     ]
    }
   ],
   "source": [
    "emp={'name':'Rahul Gandhi'}\n",
    "print(emp)\n",
    "emp.update({'eid':101})\n",
    "print(emp)"
   ]
  },
  {
   "cell_type": "code",
   "execution_count": 17,
   "id": "8aa7ddbc",
   "metadata": {},
   "outputs": [
    {
     "name": "stdout",
     "output_type": "stream",
     "text": [
      "102\n",
      "{'id': 101, 'extra_id': 102}\n"
     ]
    }
   ],
   "source": [
    "#set default\n",
    "emp={\n",
    "    'id':101\n",
    "}\n",
    "value=emp.setdefault('extra_id',102)\n",
    "print(value)\n",
    "print(emp)"
   ]
  },
  {
   "cell_type": "code",
   "execution_count": 18,
   "id": "2ab81de7",
   "metadata": {},
   "outputs": [
    {
     "name": "stdout",
     "output_type": "stream",
     "text": [
      "{'ename': 'Rahul', 'esal': 45000}\n"
     ]
    }
   ],
   "source": [
    "#pop method\n",
    "emp={\n",
    "    'eid':101,\n",
    "    'ename':\"Rahul\",\n",
    "    'esal':45000\n",
    "}\n",
    "emp.pop('eid')# remove the specified key and associated value\n",
    "print(emp)"
   ]
  },
  {
   "cell_type": "code",
   "execution_count": 19,
   "id": "93076ff7",
   "metadata": {},
   "outputs": [
    {
     "name": "stdout",
     "output_type": "stream",
     "text": [
      "{'eid': 101, 'ename': 'Rahul'}\n"
     ]
    }
   ],
   "source": [
    "emp={\n",
    "    'eid':101,\n",
    "    'ename':\"Rahul\",\n",
    "    'esal':45000\n",
    "}\n",
    "emp.popitem()\n",
    "print(emp)"
   ]
  },
  {
   "cell_type": "code",
   "execution_count": 20,
   "id": "7495527b",
   "metadata": {},
   "outputs": [
    {
     "name": "stdout",
     "output_type": "stream",
     "text": [
      "{'eid': 101, 'ename': 'Rahul'}\n",
      "{}\n"
     ]
    }
   ],
   "source": [
    "emp={\n",
    "    'eid':101,\n",
    "    'ename':\"Rahul\",\n",
    "    'esal':45000\n",
    "}\n",
    "emp.popitem()\n",
    "print(emp)\n",
    "emp.clear()# clear method exist only,set,list,dict not for tuple\n",
    "print(emp)"
   ]
  },
  {
   "cell_type": "code",
   "execution_count": 28,
   "id": "3a8f6e5a",
   "metadata": {},
   "outputs": [
    {
     "name": "stdout",
     "output_type": "stream",
     "text": [
      "Nixie\n",
      "Joyce\n",
      "Barron\n",
      "Claudie\n",
      "Damiano\n",
      "Maxi\n",
      "Augusta\n",
      "Trixy\n",
      "Karalee\n",
      "Jodee\n",
      "Johnath\n",
      "Delmer\n",
      "Penny\n",
      "Regina\n",
      "Vanni\n",
      "Salomone\n",
      "Ailene\n",
      "Dane\n",
      "Marietta\n",
      "Becky\n",
      "Aldwin\n",
      "Claiborn\n",
      "Isa\n",
      "Pooh\n",
      "Arielle\n",
      "Gerry\n",
      "Richmound\n",
      "Vinnie\n",
      "Barret\n",
      "Matthias\n",
      "Carlotta\n",
      "Lyell\n",
      "Chester\n",
      "Sanson\n",
      "Rancell\n",
      "Gerek\n",
      "Waverley\n",
      "Valene\n",
      "Jeannette\n",
      "Larry\n",
      "Sherwynd\n",
      "June\n",
      "Hi\n",
      "Virgie\n",
      "Rosamond\n",
      "Elaina\n",
      "Mable\n",
      "Wash\n",
      "Herman\n",
      "Dee dee\n"
     ]
    }
   ],
   "source": [
    "\n",
    "users=[{'eid':1,'ename':'Nixie','email':'nmacquist0@walmart.com','gender':'Female'},\n",
    "{'eid':2,'ename':'Joyce','email':'jnoell1@earthlink.net','gender':'Female'},\n",
    "{'eid':3,'ename':'Barron','email':'bmccullen2@senate.gov','gender':'Male'},\n",
    "{'eid':4,'ename':'Claudie','email':'cwale3@reverbnation.com','gender':'Female'},\n",
    "{'eid':5,'ename':'Damiano','email':'dbourley4@cdbaby.com','gender':'Non-binary'},\n",
    "{'eid':6,'ename':'Maxi','email':'mmanuely5@miitbeian.gov.cn','gender':'Female'},\n",
    "{'eid':7,'ename':'Augusta','email':'ahanham6@163.com','gender':'Female'},\n",
    "{'eid':8,'ename':'Trixy','email':'tstockney7@examiner.com','gender':'Female'},\n",
    "{'eid':9,'ename':'Karalee','email':'kimpson8@amazon.co.uk','gender':'Female'},\n",
    "{'eid':10,'ename':'Jodee','email':'jpresidey9@sohu.com','gender':'Female'},\n",
    "{'eid':11,'ename':'Johnath','email':'jpaintera@telegraph.co.uk','gender':'Female'},\n",
    "{'eid':12,'ename':'Delmer','email':'dgeppb@bloglovin.com','gender':'Male'},\n",
    "{'eid':13,'ename':'Penny','email':'pcollenc@nba.com','gender':'Male'},\n",
    "{'eid':14,'ename':'Regina','email':'rtunnockd@squidoo.com','gender':'Genderqueer'},\n",
    "{'eid':15,'ename':'Vanni','email':'vhaslocke@cocolog-nifty.com','gender':'Female'},\n",
    "{'eid':16,'ename':'Salomone','email':'slabordef@behance.net','gender':'Male'},\n",
    "{'eid':17,'ename':'Ailene','email':'akobschg@tiny.cc','gender':'Genderfluid'},\n",
    "{'eid':18,'ename':'Dane','email':'drappah@cnn.com','gender':'Male'},\n",
    "{'eid':19,'ename':'Marietta','email':'mkinetoni@alibaba.com','gender':'Female'},\n",
    "{'eid':20,'ename':'Becky','email':'blowethj@google.de','gender':'Non-binary'},\n",
    "{'eid':21,'ename':'Aldwin','email':'acanonk@google.co.jp','gender':'Male'},\n",
    "{'eid':22,'ename':'Claiborn','email':'crhymerl@ow.ly','gender':'Male'},\n",
    "{'eid':23,'ename':'Isa','email':'iberndtssenm@yahoo.com','gender':'Male'},\n",
    "{'eid':24,'ename':'Pooh','email':'pwittmann@google.co.jp','gender':'Male'},\n",
    "{'eid':25,'ename':'Arielle','email':'apinchino@163.com','gender':'Genderfluid'},\n",
    "{'eid':26,'ename':'Gerry','email':'gtiltp@diigo.com','gender':'Male'},\n",
    "{'eid':27,'ename':'Richmound','email':'rkilgroveq@howstuffworks.com','gender':'Male'},\n",
    "{'eid':28,'ename':'Vinnie','email':'vgrigoreyr@furl.net','gender':'Male'},\n",
    "{'eid':29,'ename':'Barret','email':'blimpertzs@dmoz.org','gender':'Male'},\n",
    "{'eid':30,'ename':'Matthias','email':'mmacshirriet@cafepress.com','gender':'Male'},\n",
    "{'eid':31,'ename':'Carlotta','email':'cfalkousu@cdc.gov','gender':'Female'},\n",
    "{'eid':32,'ename':'Lyell','email':'lcasemorev@goodreads.com','gender':'Male'},\n",
    "{'eid':33,'ename':'Chester','email':'ctiesw@mapy.cz','gender':'Male'},\n",
    "{'eid':34,'ename':'Sanson','email':'schristianx@stanford.edu','gender':'Male'},\n",
    "{'eid':35,'ename':'Rancell','email':'rgaynesfordy@skyrock.com','gender':'Male'},\n",
    "{'eid':36,'ename':'Gerek','email':'gbrozekz@paypal.com','gender':'Male'},\n",
    "{'eid':37,'ename':'Waverley','email':'wfairest10@myspace.com','gender':'Male'},\n",
    "{'eid':38,'ename':'Valene','email':'vitzig11@histats.com','gender':'Female'},\n",
    "{'eid':39,'ename':'Jeannette','email':'jsaipy12@ycombinator.com','gender':'Female'},\n",
    "{'eid':40,'ename':'Larry','email':'lredwin13@ftc.gov','gender':'Genderqueer'},\n",
    "{'eid':41,'ename':'Sherwynd','email':'sartrick14@ca.gov','gender':'Male'},\n",
    "{'eid':42,'ename':'June','email':'jwinning15@list-manage.com','gender':'Genderqueer'},\n",
    "{'eid':43,'ename':'Hi','email':'hcorrado16@symantec.com','gender':'Male'},\n",
    "{'eid':44,'ename':'Virgie','email':'vmaunsell17@odnoklassniki.ru','gender':'Male'},\n",
    "{'eid':45,'ename':'Rosamond','email':'rschwaiger18@shinystat.com','gender':'Genderqueer'},\n",
    "{'eid':46,'ename':'Elaina','email':'esertin19@histats.com','gender':'Female'},\n",
    "{'eid':47,'ename':'Mable','email':'mgai1a@blog.com','gender':'Female'},\n",
    "{'eid':48,'ename':'Wash','email':'wklisch1b@wufoo.com','gender':'Male'},\n",
    "{'eid':49,'ename':'Herman','email':'hwilgar1c@aol.com','gender':'Non-binary'},\n",
    "{'eid':50,'ename':'Dee dee','email':'dcooke1d@nationalgeographic.com','gender':'Female'}]\n",
    "\n",
    "#how to iterate list object? it is iterated with for loop and while loop.\n",
    "for user in users:\n",
    "    print(user['ename'])"
   ]
  },
  {
   "cell_type": "code",
   "execution_count": null,
   "id": "deb07f45",
   "metadata": {},
   "outputs": [],
   "source": [
    "#errors\n",
    "# syntax error\n",
    "# name error\n",
    "# value error\n",
    "# key error\n",
    "# indentation error\n",
    "# index error\n",
    "# type error"
   ]
  }
 ],
 "metadata": {
  "kernelspec": {
   "display_name": "Python 3 (ipykernel)",
   "language": "python",
   "name": "python3"
  },
  "language_info": {
   "codemirror_mode": {
    "name": "ipython",
    "version": 3
   },
   "file_extension": ".py",
   "mimetype": "text/x-python",
   "name": "python",
   "nbconvert_exporter": "python",
   "pygments_lexer": "ipython3",
   "version": "3.7.6"
  }
 },
 "nbformat": 4,
 "nbformat_minor": 5
}
