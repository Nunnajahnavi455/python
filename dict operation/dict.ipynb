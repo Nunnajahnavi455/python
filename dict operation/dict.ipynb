{
 "cells": [
  {
   "cell_type": "code",
   "execution_count": 1,
   "id": "386dc0cc",
   "metadata": {},
   "outputs": [
    {
     "name": "stdout",
     "output_type": "stream",
     "text": [
      "{}\n"
     ]
    }
   ],
   "source": [
    "d1={}\n",
    "print(d1)"
   ]
  },
  {
   "cell_type": "code",
   "execution_count": 2,
   "id": "343cfe62",
   "metadata": {},
   "outputs": [
    {
     "name": "stdout",
     "output_type": "stream",
     "text": [
      "<class 'dict'>\n"
     ]
    }
   ],
   "source": [
    "d1={}\n",
    "print(type(d1))"
   ]
  },
  {
   "cell_type": "code",
   "execution_count": 4,
   "id": "12380c41",
   "metadata": {},
   "outputs": [
    {
     "name": "stdout",
     "output_type": "stream",
     "text": [
      "{'eid': 101, 'ename': 'Rahul', 'esal': 45000.45, 'avail': True}\n"
     ]
    }
   ],
   "source": [
    "#what is dict object? group of key:values are not entered\n",
    "#or\n",
    "#group of properties(property name and value)\n",
    "emp ={\n",
    "    'eid':101,\n",
    "    'ename':'Rahul',\n",
    "    'esal':45000.45,\n",
    "    'avail':True\n",
    "}\n",
    "print(emp)"
   ]
  },
  {
   "cell_type": "code",
   "execution_count": 6,
   "id": "2a75fd1b",
   "metadata": {},
   "outputs": [
    {
     "name": "stdout",
     "output_type": "stream",
     "text": [
      "{'eid': 104}\n"
     ]
    }
   ],
   "source": [
    "#List and tuple-duplicate elements are allowed\n",
    "#set-duplicate elements are not allowed\n",
    "#dict-duplicate key are not allowed\n",
    "emp ={\n",
    "    'eid':101,\n",
    "    'eid':102,\n",
    "    'eid':103,\n",
    "    'eid':104\n",
    "   \n",
    "}\n",
    "print(emp)"
   ]
  },
  {
   "cell_type": "code",
   "execution_count": 9,
   "id": "acafce29",
   "metadata": {},
   "outputs": [
    {
     "name": "stdout",
     "output_type": "stream",
     "text": [
      "101\n"
     ]
    }
   ],
   "source": [
    "emp ={\n",
    "    'eid':101,\n",
    "    'ename':'Rahul',\n",
    "    'esal':45000.45,\n",
    "    'avail':True\n",
    "}\n",
    "print(emp['eid'])"
   ]
  },
  {
   "cell_type": "code",
   "execution_count": 12,
   "id": "d2ca0fc4",
   "metadata": {},
   "outputs": [
    {
     "name": "stdout",
     "output_type": "stream",
     "text": [
      "101\n",
      "Rahul\n",
      "45000.45\n",
      "True\n"
     ]
    }
   ],
   "source": [
    "emp={\n",
    "    'eid':101,\n",
    "    'ename':'Rahul',\n",
    "    'esal':45000.45,\n",
    "    'avail':True\n",
    "}\n",
    "# print all dict value?\n",
    "print(emp['eid'])\n",
    "print(emp['ename'])\n",
    "print(emp['esal'])\n",
    "print(emp['avail'])"
   ]
  },
  {
   "cell_type": "code",
   "execution_count": 13,
   "id": "47f5870a",
   "metadata": {},
   "outputs": [
    {
     "name": "stdout",
     "output_type": "stream",
     "text": [
      "101\n",
      "Rahul\n",
      "45000.45\n",
      "True\n"
     ]
    }
   ],
   "source": [
    "emp={\n",
    "    'eid':101,\n",
    "    'ename':'Rahul',\n",
    "    'esal':45000.45,\n",
    "    'avail':True\n",
    "}\n",
    "print(emp.get('eid'))\n",
    "print(emp.get('ename'))\n",
    "print(emp.get('esal'))\n",
    "print(emp.get('avail'))"
   ]
  },
  {
   "cell_type": "code",
   "execution_count": 14,
   "id": "8bb75a61",
   "metadata": {},
   "outputs": [
    {
     "name": "stdout",
     "output_type": "stream",
     "text": [
      "eid\n",
      "ename\n",
      "esal\n",
      "avail\n"
     ]
    }
   ],
   "source": [
    "#iterating dict object using keys\n",
    "#print all keys\n",
    "for key in emp.keys():\n",
    "    print(key)"
   ]
  },
  {
   "cell_type": "code",
   "execution_count": 16,
   "id": "8abce484",
   "metadata": {},
   "outputs": [
    {
     "name": "stdout",
     "output_type": "stream",
     "text": [
      "101\n",
      "Rahul\n",
      "45000.45\n",
      "True\n"
     ]
    }
   ],
   "source": [
    "#print all values\n",
    "for value in emp.values():\n",
    "    print(value)"
   ]
  },
  {
   "cell_type": "code",
   "execution_count": 18,
   "id": "11428713",
   "metadata": {},
   "outputs": [
    {
     "name": "stdout",
     "output_type": "stream",
     "text": [
      "eid 101\n",
      "ename Rahul\n",
      "esal 45000.45\n",
      "avail True\n"
     ]
    }
   ],
   "source": [
    "#print key & values\n",
    "for key,value in emp.items():\n",
    "    print(key,value)"
   ]
  },
  {
   "cell_type": "code",
   "execution_count": 10,
   "id": "ccc95992",
   "metadata": {},
   "outputs": [
    {
     "name": "stdout",
     "output_type": "stream",
     "text": [
      "23\n",
      "27\n"
     ]
    }
   ],
   "source": [
    "users=[{\"eid\":1,\"ename\":\"Gabrielle\",\"email\":\"gjoul0@answers.com\",\"gender\":\"Female\"},\n",
    "{\"eid\":2,\"ename\":\"Casi\",\"email\":\"cmeeny1@craigslist.org\",\"gender\":\"Female\"},\n",
    "{\"eid\":3,\"ename\":\"Sapphira\",\"email\":\"ssokell2@time.com\",\"gender\":\"Female\"},\n",
    "{\"eid\":4,\"ename\":\"Elisabet\",\"email\":\"ewhelband3@pbs.org\",\"gender\":\"Female\"},\n",
    "{\"eid\":5,\"ename\":\"Marcelline\",\"email\":\"mparcell4@theatlantic.com\",\"gender\":\"Female\"},\n",
    "{\"eid\":6,\"ename\":\"Frasier\",\"email\":\"ftwydell5@myspace.com\",\"gender\":\"Non-binary\"},\n",
    "{\"eid\":7,\"ename\":\"Abbey\",\"email\":\"adowley6@newyorker.com\",\"gender\":\"Male\"},\n",
    "{\"eid\":8,\"ename\":\"Waylin\",\"email\":\"wfelton7@e-recht24.de\",\"gender\":\"Genderqueer\"},\n",
    "{\"eid\":9,\"ename\":\"Taddeo\",\"email\":\"thissett8@simplemachines.org\",\"gender\":\"Male\"},\n",
    "{\"eid\":10,\"ename\":\"Rudolph\",\"email\":\"rmeeus9@smugmug.com\",\"gender\":\"Male\"},\n",
    "{\"eid\":11,\"ename\":\"Morganne\",\"email\":\"mhatliffa@hud.gov\",\"gender\":\"Agender\"},\n",
    "{\"eid\":12,\"ename\":\"Stacia\",\"email\":\"swolfitb@sitemeter.com\",\"gender\":\"Female\"},\n",
    "{\"eid\":13,\"ename\":\"Martyn\",\"email\":\"mhamshawc@slate.com\",\"gender\":\"Male\"},\n",
    "{\"eid\":14,\"ename\":\"Ezri\",\"email\":\"emurrd@bandcamp.com\",\"gender\":\"Male\"},\n",
    "{\"eid\":15,\"ename\":\"Thacher\",\"email\":\"thursthousee@psu.edu\",\"gender\":\"Male\"},\n",
    "{\"eid\":16,\"ename\":\"Marlo\",\"email\":\"mcayfordf@bandcamp.com\",\"gender\":\"Female\"},\n",
    "{\"eid\":17,\"ename\":\"Gwenore\",\"email\":\"gmulhollandg@ebay.co.uk\",\"gender\":\"Female\"},\n",
    "{\"eid\":18,\"ename\":\"Keene\",\"email\":\"kcuddeh@yahoo.co.jp\",\"gender\":\"Bigender\"},\n",
    "{\"eid\":19,\"ename\":\"Anabella\",\"email\":\"acowerdi@goo.ne.jp\",\"gender\":\"Female\"},\n",
    "{\"eid\":20,\"ename\":\"Inglebert\",\"email\":\"itrenamj@hexun.com\",\"gender\":\"Male\"},\n",
    "{\"eid\":21,\"ename\":\"Bartholemy\",\"email\":\"bfranceschik@springer.com\",\"gender\":\"Male\"},\n",
    "{\"eid\":22,\"ename\":\"Barty\",\"email\":\"bmobiusl@webs.com\",\"gender\":\"Genderqueer\"},\n",
    "{\"eid\":23,\"ename\":\"Conrade\",\"email\":\"cchesem@yale.edu\",\"gender\":\"Male\"},\n",
    "{\"eid\":24,\"ename\":\"Bellina\",\"email\":\"bwolstenholmen@washingtonpost.com\",\"gender\":\"Female\"},\n",
    "{\"eid\":25,\"ename\":\"Evie\",\"email\":\"eelletto@admin.ch\",\"gender\":\"Female\"},\n",
    "{\"eid\":26,\"ename\":\"Ara\",\"email\":\"aodunniomp@webmd.com\",\"gender\":\"Male\"},\n",
    "{\"eid\":27,\"ename\":\"Manya\",\"email\":\"mlocklessq@newyorker.com\",\"gender\":\"Female\"},\n",
    "{\"eid\":28,\"ename\":\"Sybille\",\"email\":\"sattwoodr@reddit.com\",\"gender\":\"Female\"},\n",
    "{\"eid\":29,\"ename\":\"Ilise\",\"email\":\"ibambletts@nature.com\",\"gender\":\"Female\"},\n",
    "{\"eid\":30,\"ename\":\"Burr\",\"email\":\"barmalt@google.ru\",\"gender\":\"Male\"},\n",
    "{\"eid\":31,\"ename\":\"Theresina\",\"email\":\"tpatisu@mysql.com\",\"gender\":\"Female\"},\n",
    "{\"eid\":32,\"ename\":\"Waldo\",\"email\":\"wwardsv@ehow.com\",\"gender\":\"Male\"},\n",
    "{\"eid\":33,\"ename\":\"Shep\",\"email\":\"sserrierw@sfgate.com\",\"gender\":\"Male\"},\n",
    "{\"eid\":34,\"ename\":\"Haily\",\"email\":\"hfidockx@shop-pro.jp\",\"gender\":\"Genderqueer\"},\n",
    "{\"eid\":35,\"ename\":\"Ilka\",\"email\":\"ihalluty@geocities.jp\",\"gender\":\"Female\"},\n",
    "{\"eid\":36,\"ename\":\"Britt\",\"email\":\"bhustonz@princeton.edu\",\"gender\":\"Agender\"},\n",
    "{\"eid\":37,\"ename\":\"Aldo\",\"email\":\"alyptratt10@goo.ne.jp\",\"gender\":\"Male\"},\n",
    "{\"eid\":38,\"ename\":\"Tildie\",\"email\":\"twhawell11@cbslocal.com\",\"gender\":\"Female\"},\n",
    "{\"eid\":39,\"ename\":\"Sherlocke\",\"email\":\"sbernaldez12@linkedin.com\",\"gender\":\"Male\"},\n",
    "{\"eid\":40,\"ename\":\"Trent\",\"email\":\"treader13@forbes.com\",\"gender\":\"Male\"},\n",
    "{\"eid\":41,\"ename\":\"Dominic\",\"email\":\"dcattow14@ted.com\",\"gender\":\"Male\"},\n",
    "{\"eid\":42,\"ename\":\"Gino\",\"email\":\"gpettegree15@wikia.com\",\"gender\":\"Male\"},\n",
    "{\"eid\":43,\"ename\":\"Mimi\",\"email\":\"mpitman16@imageshack.us\",\"gender\":\"Female\"},\n",
    "{\"eid\":44,\"ename\":\"Elsy\",\"email\":\"egenty17@cafepress.com\",\"gender\":\"Female\"},\n",
    "{\"eid\":45,\"ename\":\"Kelsey\",\"email\":\"kcorradengo18@answers.com\",\"gender\":\"Male\"},\n",
    "{\"eid\":46,\"ename\":\"Vivianna\",\"email\":\"vpearcy19@youtu.be\",\"gender\":\"Female\"},\n",
    "{\"eid\":47,\"ename\":\"Augusto\",\"email\":\"amaleham1a@blogspot.com\",\"gender\":\"Male\"},\n",
    "{\"eid\":48,\"ename\":\"Willem\",\"email\":\"wbroader1b@people.com.cn\",\"gender\":\"Male\"},\n",
    "{\"eid\":49,\"ename\":\"Raymund\",\"email\":\"rjoburn1c@alibaba.com\",\"gender\":\"Male\"},\n",
    "{\"eid\":50,\"ename\":\"Worthington\",\"email\":\"wbrodnecke1d@wikispaces.com\",\"gender\":\"Male\"}]\n",
    "no_of_Male_users=0\n",
    "no_of_Female_users=0\n",
    "\n",
    "for user in users:\n",
    "    if user['gender']=='Male':\n",
    "        no_of_Male_users=no_of_Male_users+1\n",
    "    else:\n",
    "        no_of_Female_users=no_of_Female_users+1\n",
    "print(no_of_Male_users)\n",
    "print(no_of_Female_users)\n",
    "\n",
    "        "
   ]
  },
  {
   "cell_type": "code",
   "execution_count": 11,
   "id": "40147267",
   "metadata": {},
   "outputs": [
    {
     "name": "stdout",
     "output_type": "stream",
     "text": [
      "23\n",
      "20\n"
     ]
    }
   ],
   "source": [
    "users=[{\"eid\":1,\"ename\":\"Gabrielle\",\"email\":\"gjoul0@answers.com\",\"gender\":\"Female\"},\n",
    "{\"eid\":2,\"ename\":\"Casi\",\"email\":\"cmeeny1@craigslist.org\",\"gender\":\"Female\"},\n",
    "{\"eid\":3,\"ename\":\"Sapphira\",\"email\":\"ssokell2@time.com\",\"gender\":\"Female\"},\n",
    "{\"eid\":4,\"ename\":\"Elisabet\",\"email\":\"ewhelband3@pbs.org\",\"gender\":\"Female\"},\n",
    "{\"eid\":5,\"ename\":\"Marcelline\",\"email\":\"mparcell4@theatlantic.com\",\"gender\":\"Female\"},\n",
    "{\"eid\":6,\"ename\":\"Frasier\",\"email\":\"ftwydell5@myspace.com\",\"gender\":\"Non-binary\"},\n",
    "{\"eid\":7,\"ename\":\"Abbey\",\"email\":\"adowley6@newyorker.com\",\"gender\":\"Male\"},\n",
    "{\"eid\":8,\"ename\":\"Waylin\",\"email\":\"wfelton7@e-recht24.de\",\"gender\":\"Genderqueer\"},\n",
    "{\"eid\":9,\"ename\":\"Taddeo\",\"email\":\"thissett8@simplemachines.org\",\"gender\":\"Male\"},\n",
    "{\"eid\":10,\"ename\":\"Rudolph\",\"email\":\"rmeeus9@smugmug.com\",\"gender\":\"Male\"},\n",
    "{\"eid\":11,\"ename\":\"Morganne\",\"email\":\"mhatliffa@hud.gov\",\"gender\":\"Agender\"},\n",
    "{\"eid\":12,\"ename\":\"Stacia\",\"email\":\"swolfitb@sitemeter.com\",\"gender\":\"Female\"},\n",
    "{\"eid\":13,\"ename\":\"Martyn\",\"email\":\"mhamshawc@slate.com\",\"gender\":\"Male\"},\n",
    "{\"eid\":14,\"ename\":\"Ezri\",\"email\":\"emurrd@bandcamp.com\",\"gender\":\"Male\"},\n",
    "{\"eid\":15,\"ename\":\"Thacher\",\"email\":\"thursthousee@psu.edu\",\"gender\":\"Male\"},\n",
    "{\"eid\":16,\"ename\":\"Marlo\",\"email\":\"mcayfordf@bandcamp.com\",\"gender\":\"Female\"},\n",
    "{\"eid\":17,\"ename\":\"Gwenore\",\"email\":\"gmulhollandg@ebay.co.uk\",\"gender\":\"Female\"},\n",
    "{\"eid\":18,\"ename\":\"Keene\",\"email\":\"kcuddeh@yahoo.co.jp\",\"gender\":\"Bigender\"},\n",
    "{\"eid\":19,\"ename\":\"Anabella\",\"email\":\"acowerdi@goo.ne.jp\",\"gender\":\"Female\"},\n",
    "{\"eid\":20,\"ename\":\"Inglebert\",\"email\":\"itrenamj@hexun.com\",\"gender\":\"Male\"},\n",
    "{\"eid\":21,\"ename\":\"Bartholemy\",\"email\":\"bfranceschik@springer.com\",\"gender\":\"Male\"},\n",
    "{\"eid\":22,\"ename\":\"Barty\",\"email\":\"bmobiusl@webs.com\",\"gender\":\"Genderqueer\"},\n",
    "{\"eid\":23,\"ename\":\"Conrade\",\"email\":\"cchesem@yale.edu\",\"gender\":\"Male\"},\n",
    "{\"eid\":24,\"ename\":\"Bellina\",\"email\":\"bwolstenholmen@washingtonpost.com\",\"gender\":\"Female\"},\n",
    "{\"eid\":25,\"ename\":\"Evie\",\"email\":\"eelletto@admin.ch\",\"gender\":\"Female\"},\n",
    "{\"eid\":26,\"ename\":\"Ara\",\"email\":\"aodunniomp@webmd.com\",\"gender\":\"Male\"},\n",
    "{\"eid\":27,\"ename\":\"Manya\",\"email\":\"mlocklessq@newyorker.com\",\"gender\":\"Female\"},\n",
    "{\"eid\":28,\"ename\":\"Sybille\",\"email\":\"sattwoodr@reddit.com\",\"gender\":\"Female\"},\n",
    "{\"eid\":29,\"ename\":\"Ilise\",\"email\":\"ibambletts@nature.com\",\"gender\":\"Female\"},\n",
    "{\"eid\":30,\"ename\":\"Burr\",\"email\":\"barmalt@google.ru\",\"gender\":\"Male\"},\n",
    "{\"eid\":31,\"ename\":\"Theresina\",\"email\":\"tpatisu@mysql.com\",\"gender\":\"Female\"},\n",
    "{\"eid\":32,\"ename\":\"Waldo\",\"email\":\"wwardsv@ehow.com\",\"gender\":\"Male\"},\n",
    "{\"eid\":33,\"ename\":\"Shep\",\"email\":\"sserrierw@sfgate.com\",\"gender\":\"Male\"},\n",
    "{\"eid\":34,\"ename\":\"Haily\",\"email\":\"hfidockx@shop-pro.jp\",\"gender\":\"Genderqueer\"},\n",
    "{\"eid\":35,\"ename\":\"Ilka\",\"email\":\"ihalluty@geocities.jp\",\"gender\":\"Female\"},\n",
    "{\"eid\":36,\"ename\":\"Britt\",\"email\":\"bhustonz@princeton.edu\",\"gender\":\"Agender\"},\n",
    "{\"eid\":37,\"ename\":\"Aldo\",\"email\":\"alyptratt10@goo.ne.jp\",\"gender\":\"Male\"},\n",
    "{\"eid\":38,\"ename\":\"Tildie\",\"email\":\"twhawell11@cbslocal.com\",\"gender\":\"Female\"},\n",
    "{\"eid\":39,\"ename\":\"Sherlocke\",\"email\":\"sbernaldez12@linkedin.com\",\"gender\":\"Male\"},\n",
    "{\"eid\":40,\"ename\":\"Trent\",\"email\":\"treader13@forbes.com\",\"gender\":\"Male\"},\n",
    "{\"eid\":41,\"ename\":\"Dominic\",\"email\":\"dcattow14@ted.com\",\"gender\":\"Male\"},\n",
    "{\"eid\":42,\"ename\":\"Gino\",\"email\":\"gpettegree15@wikia.com\",\"gender\":\"Male\"},\n",
    "{\"eid\":43,\"ename\":\"Mimi\",\"email\":\"mpitman16@imageshack.us\",\"gender\":\"Female\"},\n",
    "{\"eid\":44,\"ename\":\"Elsy\",\"email\":\"egenty17@cafepress.com\",\"gender\":\"Female\"},\n",
    "{\"eid\":45,\"ename\":\"Kelsey\",\"email\":\"kcorradengo18@answers.com\",\"gender\":\"Male\"},\n",
    "{\"eid\":46,\"ename\":\"Vivianna\",\"email\":\"vpearcy19@youtu.be\",\"gender\":\"Female\"},\n",
    "{\"eid\":47,\"ename\":\"Augusto\",\"email\":\"amaleham1a@blogspot.com\",\"gender\":\"Male\"},\n",
    "{\"eid\":48,\"ename\":\"Willem\",\"email\":\"wbroader1b@people.com.cn\",\"gender\":\"Male\"},\n",
    "{\"eid\":49,\"ename\":\"Raymund\",\"email\":\"rjoburn1c@alibaba.com\",\"gender\":\"Male\"},\n",
    "{\"eid\":50,\"ename\":\"Worthington\",\"email\":\"wbrodnecke1d@wikispaces.com\",\"gender\":\"Male\"}]\n",
    "no_of_Male_users=0\n",
    "no_of_Female_users=0\n",
    "\n",
    "i=0\n",
    "while i<=len(users)-1:\n",
    "    if users[i]['gender']=='Male':\n",
    "        no_of_Male_users=no_of_Male_users+1\n",
    "    elif users[i]['gender']=='Female':\n",
    "        no_of_Female_users=no_of_Female_users+1\n",
    "    i=i+1\n",
    "print(no_of_Male_users)\n",
    "print(no_of_Female_users)\n",
    "\n",
    "        "
   ]
  },
  {
   "cell_type": "code",
   "execution_count": 15,
   "id": "f1b5d088",
   "metadata": {},
   "outputs": [
    {
     "ename": "NameError",
     "evalue": "name 'odds' is not defined",
     "output_type": "error",
     "traceback": [
      "\u001b[1;31m---------------------------------------------------------------------------\u001b[0m",
      "\u001b[1;31mNameError\u001b[0m                                 Traceback (most recent call last)",
      "\u001b[1;32m~\\AppData\\Local\\Temp\\ipykernel_2580\\3975901837.py\u001b[0m in \u001b[0;36m<module>\u001b[1;34m\u001b[0m\n\u001b[0;32m      6\u001b[0m         \u001b[0mevens\u001b[0m\u001b[1;33m=\u001b[0m\u001b[0mevens\u001b[0m\u001b[1;33m+\u001b[0m\u001b[1;36m1\u001b[0m\u001b[1;33m\u001b[0m\u001b[1;33m\u001b[0m\u001b[0m\n\u001b[0;32m      7\u001b[0m     \u001b[1;32melse\u001b[0m\u001b[1;33m:\u001b[0m\u001b[1;33m\u001b[0m\u001b[1;33m\u001b[0m\u001b[0m\n\u001b[1;32m----> 8\u001b[1;33m         \u001b[0modds\u001b[0m\u001b[1;33m=\u001b[0m\u001b[0modds\u001b[0m\u001b[1;33m+\u001b[0m\u001b[1;36m1\u001b[0m\u001b[1;33m\u001b[0m\u001b[1;33m\u001b[0m\u001b[0m\n\u001b[0m\u001b[0;32m      9\u001b[0m \u001b[0mprint\u001b[0m\u001b[1;33m(\u001b[0m\u001b[0mevens\u001b[0m\u001b[1;33m)\u001b[0m\u001b[1;33m\u001b[0m\u001b[1;33m\u001b[0m\u001b[0m\n\u001b[0;32m     10\u001b[0m \u001b[0mprint\u001b[0m\u001b[1;33m(\u001b[0m\u001b[0modds\u001b[0m\u001b[1;33m)\u001b[0m\u001b[1;33m\u001b[0m\u001b[1;33m\u001b[0m\u001b[0m\n",
      "\u001b[1;31mNameError\u001b[0m: name 'odds' is not defined"
     ]
    }
   ],
   "source": [
    "#practice\n",
    "#print number of  even and odd numbers\n",
    "numbers=[1,2,3,4,5,6,7,8,9,10]\n",
    "for num in numbers:\n",
    "    if num%2==0:\n",
    "        evens=evens+1\n",
    "    else:\n",
    "        odds=odds+1\n",
    "print(evens)\n",
    "print(odds)"
   ]
  },
  {
   "cell_type": "code",
   "execution_count": null,
   "id": "a6854fe6",
   "metadata": {},
   "outputs": [],
   "source": []
  }
 ],
 "metadata": {
  "kernelspec": {
   "display_name": "Python 3 (ipykernel)",
   "language": "python",
   "name": "python3"
  },
  "language_info": {
   "codemirror_mode": {
    "name": "ipython",
    "version": 3
   },
   "file_extension": ".py",
   "mimetype": "text/x-python",
   "name": "python",
   "nbconvert_exporter": "python",
   "pygments_lexer": "ipython3",
   "version": "3.7.6"
  }
 },
 "nbformat": 4,
 "nbformat_minor": 5
}
