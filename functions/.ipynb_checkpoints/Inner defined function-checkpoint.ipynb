{
 "cells": [
  {
   "cell_type": "code",
   "execution_count": 1,
   "id": "fea4c0e5",
   "metadata": {},
   "outputs": [
    {
     "name": "stdout",
     "output_type": "stream",
     "text": [
      "GM\n"
     ]
    }
   ],
   "source": [
    "def outer():\n",
    "    print('GM')\n",
    "    def inner():\n",
    "        print('GA')\n",
    "outer()"
   ]
  },
  {
   "cell_type": "code",
   "execution_count": 3,
   "id": "930fc576",
   "metadata": {},
   "outputs": [
    {
     "name": "stdout",
     "output_type": "stream",
     "text": [
      "outer function\n",
      "inner function\n",
      "inner function\n"
     ]
    }
   ],
   "source": [
    "def outer():\n",
    "    print('outer function')\n",
    "    def inner():\n",
    "        print('inner function')\n",
    "    inner()\n",
    "    inner()\n",
    "outer()\n",
    "        "
   ]
  },
  {
   "cell_type": "markdown",
   "id": "b96454d4",
   "metadata": {},
   "source": []
  },
  {
   "cell_type": "code",
   "execution_count": 8,
   "id": "9c769fb9",
   "metadata": {},
   "outputs": [
    {
     "name": "stdout",
     "output_type": "stream",
     "text": [
      "outer function\n",
      "None\n"
     ]
    }
   ],
   "source": [
    "#return the function\n",
    "def outer():\n",
    "    print('outer function')\n",
    "    \n",
    "    def inner():\n",
    "        print('inner function')\n",
    "        \n",
    "        return 100\n",
    "value=outer()\n",
    "print(value)"
   ]
  },
  {
   "cell_type": "code",
   "execution_count": 13,
   "id": "721d743c",
   "metadata": {},
   "outputs": [
    {
     "name": "stdout",
     "output_type": "stream",
     "text": [
      "outer function\n",
      "inner function\n",
      "inner function\n"
     ]
    }
   ],
   "source": [
    "#return the function\n",
    "def outer():\n",
    "    print('outer function')\n",
    "    \n",
    "    def inner():\n",
    "        print('inner function')\n",
    "        \n",
    "    return inner\n",
    "inner=outer()\n",
    "inner()\n",
    "inner()"
   ]
  },
  {
   "cell_type": "code",
   "execution_count": 15,
   "id": "4df04317",
   "metadata": {},
   "outputs": [
    {
     "name": "stdout",
     "output_type": "stream",
     "text": [
      "101\n"
     ]
    }
   ],
   "source": [
    "#anonymus function\n",
    "def add(x):\n",
    "    return x+1\n",
    "r1=add(100)\n",
    "print(r1)"
   ]
  },
  {
   "cell_type": "code",
   "execution_count": 16,
   "id": "a097ad53",
   "metadata": {},
   "outputs": [
    {
     "name": "stdout",
     "output_type": "stream",
     "text": [
      "101\n"
     ]
    }
   ],
   "source": [
    " x=lambda x:x+1 #{lambda means nameless function}\n",
    "r1=add(100)\n",
    "print(r1)"
   ]
  },
  {
   "cell_type": "code",
   "execution_count": 18,
   "id": "9094885f",
   "metadata": {},
   "outputs": [
    {
     "name": "stdout",
     "output_type": "stream",
     "text": [
      "<class 'int'>\n",
      "<class 'function'>\n"
     ]
    }
   ],
   "source": [
    "a=100\n",
    "def add(a,b):\n",
    "    print(a+b)\n",
    "print(type(a))\n",
    "print(type(add))"
   ]
  },
  {
   "cell_type": "code",
   "execution_count": 20,
   "id": "1efe0dee",
   "metadata": {},
   "outputs": [
    {
     "name": "stdout",
     "output_type": "stream",
     "text": [
      "30\n"
     ]
    }
   ],
   "source": [
    "#converting normal function to lambda function\n",
    "def add(a,b):\n",
    "    return a+b\n",
    "r1=add(10,20)\n",
    "print(r1)"
   ]
  },
  {
   "cell_type": "code",
   "execution_count": 21,
   "id": "e1f12504",
   "metadata": {},
   "outputs": [
    {
     "name": "stdout",
     "output_type": "stream",
     "text": [
      "36\n"
     ]
    }
   ],
   "source": [
    "#map function     \n",
    "def addplus(mark):  #map is used to execute provided function for every element of sequence.\n",
    "    return mark+1\n",
    "print(addplus(35))"
   ]
  },
  {
   "cell_type": "code",
   "execution_count": 22,
   "id": "4595d114",
   "metadata": {},
   "outputs": [
    {
     "name": "stdout",
     "output_type": "stream",
     "text": [
      "[35, 11, 16]\n"
     ]
    }
   ],
   "source": [
    "marks=[34,10,15]\n",
    "obj=map(addplus,marks)\n",
    "print(list(obj))"
   ]
  },
  {
   "cell_type": "code",
   "execution_count": null,
   "id": "870cb22b",
   "metadata": {},
   "outputs": [],
   "source": []
  }
 ],
 "metadata": {
  "kernelspec": {
   "display_name": "Python 3 (ipykernel)",
   "language": "python",
   "name": "python3"
  },
  "language_info": {
   "codemirror_mode": {
    "name": "ipython",
    "version": 3
   },
   "file_extension": ".py",
   "mimetype": "text/x-python",
   "name": "python",
   "nbconvert_exporter": "python",
   "pygments_lexer": "ipython3",
   "version": "3.7.6"
  }
 },
 "nbformat": 4,
 "nbformat_minor": 5
}
