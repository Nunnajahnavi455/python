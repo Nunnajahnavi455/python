{
 "cells": [
  {
   "cell_type": "code",
   "execution_count": 1,
   "id": "7f9fc79e",
   "metadata": {},
   "outputs": [
    {
     "name": "stdout",
     "output_type": "stream",
     "text": [
      "GM\n"
     ]
    }
   ],
   "source": [
    "def outer():\n",
    "    print('GM')\n",
    "    def inner():\n",
    "        print('GA')\n",
    "outer()"
   ]
  },
  {
   "cell_type": "code",
   "execution_count": 3,
   "id": "837a8ff5",
   "metadata": {},
   "outputs": [
    {
     "name": "stdout",
     "output_type": "stream",
     "text": [
      "outer function\n",
      "inner function\n",
      "inner function\n"
     ]
    }
   ],
   "source": [
    "def outer():\n",
    "    print('outer function')\n",
    "    def inner():\n",
    "        print('inner function')\n",
    "    inner()\n",
    "    inner()\n",
    "outer()\n",
    "        "
   ]
  },
  {
   "cell_type": "markdown",
   "id": "37fe5d1d",
   "metadata": {},
   "source": []
  },
  {
   "cell_type": "code",
   "execution_count": 8,
   "id": "c2b10a1c",
   "metadata": {},
   "outputs": [
    {
     "name": "stdout",
     "output_type": "stream",
     "text": [
      "outer function\n",
      "None\n"
     ]
    }
   ],
   "source": [
    "#return the function\n",
    "def outer():\n",
    "    print('outer function')\n",
    "    \n",
    "    def inner():\n",
    "        print('inner function')\n",
    "        \n",
    "        return 100\n",
    "value=outer()\n",
    "print(value)"
   ]
  },
  {
   "cell_type": "code",
   "execution_count": 13,
   "id": "c0b7d09c",
   "metadata": {},
   "outputs": [
    {
     "name": "stdout",
     "output_type": "stream",
     "text": [
      "outer function\n",
      "inner function\n",
      "inner function\n"
     ]
    }
   ],
   "source": [
    "#return the function\n",
    "def outer():\n",
    "    print('outer function')\n",
    "    \n",
    "    def inner():\n",
    "        print('inner function')\n",
    "        \n",
    "    return inner\n",
    "inner=outer()\n",
    "inner()\n",
    "inner()"
   ]
  },
  {
   "cell_type": "code",
   "execution_count": 15,
   "id": "7e84bbc2",
   "metadata": {},
   "outputs": [
    {
     "name": "stdout",
     "output_type": "stream",
     "text": [
      "101\n"
     ]
    }
   ],
   "source": [
    "#anonymus function\n",
    "def add(x):\n",
    "    return x+1\n",
    "r1=add(100)\n",
    "print(r1)"
   ]
  },
  {
   "cell_type": "code",
   "execution_count": 16,
   "id": "8cbd72de",
   "metadata": {},
   "outputs": [
    {
     "name": "stdout",
     "output_type": "stream",
     "text": [
      "101\n"
     ]
    }
   ],
   "source": [
    " x=lambda x:x+1 #{lambda means nameless function}\n",
    "r1=add(100)\n",
    "print(r1)"
   ]
  },
  {
   "cell_type": "code",
   "execution_count": 18,
   "id": "a39e4ea0",
   "metadata": {},
   "outputs": [
    {
     "name": "stdout",
     "output_type": "stream",
     "text": [
      "<class 'int'>\n",
      "<class 'function'>\n"
     ]
    }
   ],
   "source": [
    "a=100\n",
    "def add(a,b):\n",
    "    print(a+b)\n",
    "print(type(a))\n",
    "print(type(add))"
   ]
  },
  {
   "cell_type": "code",
   "execution_count": 20,
   "id": "17e722b8",
   "metadata": {},
   "outputs": [
    {
     "name": "stdout",
     "output_type": "stream",
     "text": [
      "30\n"
     ]
    }
   ],
   "source": [
    "#converting normal function to lambda function\n",
    "def add(a,b):\n",
    "    return a+b\n",
    "r1=add(10,20)\n",
    "print(r1)"
   ]
  },
  {
   "cell_type": "code",
   "execution_count": 21,
   "id": "5fe78aca",
   "metadata": {},
   "outputs": [
    {
     "name": "stdout",
     "output_type": "stream",
     "text": [
      "36\n"
     ]
    }
   ],
   "source": [
    "#map function     \n",
    "def addplus(mark):  #map is used to execute provided function for every element of sequence.\n",
    "    return mark+1\n",
    "print(addplus(35))"
   ]
  },
  {
   "cell_type": "code",
   "execution_count": 24,
   "id": "e82cd2c9",
   "metadata": {},
   "outputs": [
    {
     "name": "stdout",
     "output_type": "stream",
     "text": [
      "<class 'map'>\n",
      "[35, 11, 16]\n"
     ]
    }
   ],
   "source": [
    "marks=[34,10,15]\n",
    "obj=map(addplus,marks)\n",
    "print(type(obj))\n",
    "print(list(obj))"
   ]
  },
  {
   "cell_type": "code",
   "execution_count": 1,
   "id": "2e48227e",
   "metadata": {},
   "outputs": [
    {
     "name": "stdout",
     "output_type": "stream",
     "text": [
      "rahul\n"
     ]
    }
   ],
   "source": [
    "#lambda example\n",
    "def update(name):\n",
    "    return name.lower()\n",
    "name=update('Rahul')\n",
    "print(name)"
   ]
  },
  {
   "cell_type": "code",
   "execution_count": 2,
   "id": "96eefb6d",
   "metadata": {},
   "outputs": [
    {
     "name": "stdout",
     "output_type": "stream",
     "text": [
      "<class 'int'>\n",
      "<class 'function'>\n",
      "rahul\n"
     ]
    }
   ],
   "source": [
    "a=100\n",
    "update=lambda  name:name.lower()\n",
    "print(type(a))  #<class,int>\n",
    "print(type(update))  #<class,function>\n",
    "name=update('Rahul')\n",
    "print(name)"
   ]
  },
  {
   "cell_type": "code",
   "execution_count": 5,
   "id": "1556c6aa",
   "metadata": {},
   "outputs": [
    {
     "name": "stdout",
     "output_type": "stream",
     "text": [
      "2\n"
     ]
    }
   ],
   "source": [
    "#map function\n",
    "numbers=[10,20,30,40]\n",
    "def addplus(num):\n",
    "    return num+1\n",
    "r1=addplus(1)\n",
    "print(r1)"
   ]
  },
  {
   "cell_type": "code",
   "execution_count": 8,
   "id": "67823fd8",
   "metadata": {},
   "outputs": [
    {
     "name": "stdout",
     "output_type": "stream",
     "text": [
      "[11, 21, 31, 41]\n"
     ]
    }
   ],
   "source": [
    "map_obj=map(addplus,numbers)\n",
    "new_numbers=list(map_obj)\n",
    "print(new_numbers)"
   ]
  },
  {
   "cell_type": "code",
   "execution_count": 10,
   "id": "930fbc73",
   "metadata": {},
   "outputs": [
    {
     "name": "stdout",
     "output_type": "stream",
     "text": [
      "[10, 20, 30, 40]\n",
      "[11, 21, 31, 41]\n"
     ]
    }
   ],
   "source": [
    "numbers=[10,20,30,40]\n",
    "def addplus(num):\n",
    "    return num+1\n",
    "map_obj=map(addplus,numbers)\n",
    "new_numbers=list(map_obj)\n",
    "print(numbers)\n",
    "print(new_numbers)"
   ]
  },
  {
   "cell_type": "code",
   "execution_count": 11,
   "id": "5de78c99",
   "metadata": {},
   "outputs": [
    {
     "name": "stdout",
     "output_type": "stream",
     "text": [
      "[10, 20, 30, 40]\n",
      "[11, 21, 31, 41]\n"
     ]
    }
   ],
   "source": [
    "numbers=[10,20,30,40]\n",
    "#add 1 to every element and create new list\n",
    "map_obj=map(lambda num:num+1,numbers)\n",
    "print(numbers)\n",
    "print(new_numbers)"
   ]
  },
  {
   "cell_type": "code",
   "execution_count": 15,
   "id": "70dbac1c",
   "metadata": {},
   "outputs": [
    {
     "name": "stdout",
     "output_type": "stream",
     "text": [
      "[100, 50, 20, 30, 500, 600, 2000]\n",
      "[100, 50, 20, 30, 500, 600]\n"
     ]
    }
   ],
   "source": [
    "#filter example:-\n",
    "product_prices=[100,50,20,30,500,600,2000]\n",
    "#display all product prices below 1000\n",
    "new_prices=[]\n",
    "for price in product_prices:\n",
    "    if price <=1000:\n",
    "        new_prices.append(price)\n",
    "print(product_prices)\n",
    "print(new_prices)"
   ]
  },
  {
   "cell_type": "code",
   "execution_count": 16,
   "id": "9f083117",
   "metadata": {},
   "outputs": [
    {
     "name": "stdout",
     "output_type": "stream",
     "text": [
      "[1000, 50, 20, 30, 500, 600, 2000]\n",
      "[50, 20, 30, 500, 600]\n"
     ]
    }
   ],
   "source": [
    "product_prices=[1000,50,20,30,500,600,2000]\n",
    "#display all product prices below 1000\n",
    "def filterdata(price):\n",
    "    return price<1000\n",
    "new_prices=list(filter(filterdata,product_prices))\n",
    "print(product_prices)\n",
    "print(new_prices)\n"
   ]
  },
  {
   "cell_type": "code",
   "execution_count": 17,
   "id": "b0022a26",
   "metadata": {},
   "outputs": [
    {
     "name": "stdout",
     "output_type": "stream",
     "text": [
      "24\n"
     ]
    }
   ],
   "source": [
    "#users data\n",
    "users=[{'eid':1,'ename':'Nixie','email':'nmacquist0@walmart.com','gender':'Female'},\n",
    "{'eid':2,'ename':'Joyce','email':'jnoell1@earthlink.net','gender':'Female'},\n",
    "{'eid':3,'ename':'Barron','email':'bmccullen2@senate.gov','gender':'Male'},\n",
    "{'eid':4,'ename':'Claudie','email':'cwale3@reverbnation.com','gender':'Female'},\n",
    "{'eid':5,'ename':'Damiano','email':'dbourley4@cdbaby.com','gender':'Non-binary'},\n",
    "{'eid':6,'ename':'Maxi','email':'mmanuely5@miitbeian.gov.cn','gender':'Female'},\n",
    "{'eid':7,'ename':'Augusta','email':'ahanham6@163.com','gender':'Female'},\n",
    "{'eid':8,'ename':'Trixy','email':'tstockney7@examiner.com','gender':'Female'},\n",
    "{'eid':9,'ename':'Karalee','email':'kimpson8@amazon.co.uk','gender':'Female'},\n",
    "{'eid':10,'ename':'Jodee','email':'jpresidey9@sohu.com','gender':'Female'},\n",
    "{'eid':11,'ename':'Johnath','email':'jpaintera@telegraph.co.uk','gender':'Female'},\n",
    "{'eid':12,'ename':'Delmer','email':'dgeppb@bloglovin.com','gender':'Male'},\n",
    "{'eid':13,'ename':'Penny','email':'pcollenc@nba.com','gender':'Male'},\n",
    "{'eid':14,'ename':'Regina','email':'rtunnockd@squidoo.com','gender':'Genderqueer'},\n",
    "{'eid':15,'ename':'Vanni','email':'vhaslocke@cocolog-nifty.com','gender':'Female'},\n",
    "{'eid':16,'ename':'Salomone','email':'slabordef@behance.net','gender':'Male'},\n",
    "{'eid':17,'ename':'Ailene','email':'akobschg@tiny.cc','gender':'Genderfluid'},\n",
    "{'eid':18,'ename':'Dane','email':'drappah@cnn.com','gender':'Male'},\n",
    "{'eid':19,'ename':'Marietta','email':'mkinetoni@alibaba.com','gender':'Female'},\n",
    "{'eid':20,'ename':'Becky','email':'blowethj@google.de','gender':'Non-binary'},\n",
    "{'eid':21,'ename':'Aldwin','email':'acanonk@google.co.jp','gender':'Male'},\n",
    "{'eid':22,'ename':'Claiborn','email':'crhymerl@ow.ly','gender':'Male'},\n",
    "{'eid':23,'ename':'Isa','email':'iberndtssenm@yahoo.com','gender':'Male'},\n",
    "{'eid':24,'ename':'Pooh','email':'pwittmann@google.co.jp','gender':'Male'},\n",
    "{'eid':25,'ename':'Arielle','email':'apinchino@163.com','gender':'Genderfluid'},\n",
    "{'eid':26,'ename':'Gerry','email':'gtiltp@diigo.com','gender':'Male'},\n",
    "{'eid':27,'ename':'Richmound','email':'rkilgroveq@howstuffworks.com','gender':'Male'},\n",
    "{'eid':28,'ename':'Vinnie','email':'vgrigoreyr@furl.net','gender':'Male'},\n",
    "{'eid':29,'ename':'Barret','email':'blimpertzs@dmoz.org','gender':'Male'},\n",
    "{'eid':30,'ename':'Matthias','email':'mmacshirriet@cafepress.com','gender':'Male'},\n",
    "{'eid':31,'ename':'Carlotta','email':'cfalkousu@cdc.gov','gender':'Female'},\n",
    "{'eid':32,'ename':'Lyell','email':'lcasemorev@goodreads.com','gender':'Male'},\n",
    "{'eid':33,'ename':'Chester','email':'ctiesw@mapy.cz','gender':'Male'},\n",
    "{'eid':34,'ename':'Sanson','email':'schristianx@stanford.edu','gender':'Male'},\n",
    "{'eid':35,'ename':'Rancell','email':'rgaynesfordy@skyrock.com','gender':'Male'},\n",
    "{'eid':36,'ename':'Gerek','email':'gbrozekz@paypal.com','gender':'Male'},\n",
    "{'eid':37,'ename':'Waverley','email':'wfairest10@myspace.com','gender':'Male'},\n",
    "{'eid':38,'ename':'Valene','email':'vitzig11@histats.com','gender':'Female'},\n",
    "{'eid':39,'ename':'Jeannette','email':'jsaipy12@ycombinator.com','gender':'Female'},\n",
    "{'eid':40,'ename':'Larry','email':'lredwin13@ftc.gov','gender':'Genderqueer'},\n",
    "{'eid':41,'ename':'Sherwynd','email':'sartrick14@ca.gov','gender':'Male'},\n",
    "{'eid':42,'ename':'June','email':'jwinning15@list-manage.com','gender':'Genderqueer'},\n",
    "{'eid':43,'ename':'Hi','email':'hcorrado16@symantec.com','gender':'Male'},\n",
    "{'eid':44,'ename':'Virgie','email':'vmaunsell17@odnoklassniki.ru','gender':'Male'},\n",
    "{'eid':45,'ename':'Rosamond','email':'rschwaiger18@shinystat.com','gender':'Genderqueer'},\n",
    "{'eid':46,'ename':'Elaina','email':'esertin19@histats.com','gender':'Female'},\n",
    "{'eid':47,'ename':'Mable','email':'mgai1a@blog.com','gender':'Female'},\n",
    "{'eid':48,'ename':'Wash','email':'wklisch1b@wufoo.com','gender':'Male'},\n",
    "{'eid':49,'ename':'Herman','email':'hwilgar1c@aol.com','gender':'Non-binary'},\n",
    "{'eid':50,'ename':'Dee dee','email':'dcooke1d@nationalgeographic.com','gender':'Female'}]\n",
    "\n",
    "new_users=list(filter(lambda user:user['gender']=='Male',users))\n",
    "print(len(new_users))"
   ]
  },
  {
   "cell_type": "code",
   "execution_count": null,
   "id": "ef309e36",
   "metadata": {},
   "outputs": [],
   "source": [
    "#how many employess names  are start with k,A ."
   ]
  },
  {
   "cell_type": "code",
   "execution_count": null,
   "id": "da64016d",
   "metadata": {},
   "outputs": [],
   "source": []
  }
 ],
 "metadata": {
  "kernelspec": {
   "display_name": "Python 3 (ipykernel)",
   "language": "python",
   "name": "python3"
  },
  "language_info": {
   "codemirror_mode": {
    "name": "ipython",
    "version": 3
   },
   "file_extension": ".py",
   "mimetype": "text/x-python",
   "name": "python",
   "nbconvert_exporter": "python",
   "pygments_lexer": "ipython3",
   "version": "3.7.6"
  }
 },
 "nbformat": 4,
 "nbformat_minor": 5
}
