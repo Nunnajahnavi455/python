{
 "cells": [
  {
   "cell_type": "code",
   "execution_count": 2,
   "id": "1d4deccc",
   "metadata": {},
   "outputs": [
    {
     "name": "stdout",
     "output_type": "stream",
     "text": [
      "[{'id': 1, 'name': 'Marker Pen', 'category': 'st'}, {'id': 3, 'name': 'Pens', 'category': 'st'}, {'id': 5, 'name': 'Duster', 'category': 'st'}]\n",
      "[{'id': 2, 'name': 'Sugar', 'category': 'gr'}, {'id': 4, 'name': 'Millet', 'category': 'gr'}, {'id': 6, 'name': 'Dal', 'category': 'gr'}]\n"
     ]
    }
   ],
   "source": [
    "products=[\n",
    "\t{'id':1,'name':'Marker Pen', 'category':'st'},\n",
    "\t{'id':2,'name':'Sugar', 'category':'gr'},\n",
    "\t{'id':3,'name':'Pens', 'category':'st'},\n",
    "\t{'id':4,'name':'Millet', 'category':'gr'},\n",
    "\t{'id':5,'name':'Duster', 'category':'st'},\n",
    "\t{'id':6,'name':'Dal', 'category':'gr'}\n",
    "]\n",
    "st_products=[]\n",
    "gr_products=[]\n",
    "\n",
    "for product in products:\n",
    "    if product['category'] =='st':\n",
    "        st_products.append(product)\n",
    "    else:\n",
    "        gr_products.append(product)\n",
    "print(st_products)\n",
    "print(gr_products)"
   ]
  },
  {
   "cell_type": "code",
   "execution_count": 6,
   "id": "60e671da",
   "metadata": {},
   "outputs": [
    {
     "name": "stdout",
     "output_type": "stream",
     "text": [
      "[{'id': 2, 'name': 'Sugar', 'category': 'gr'}, {'id': 4, 'name': 'Millet', 'category': 'gr'}, {'id': 6, 'name': 'Dal', 'category': 'gr'}]\n"
     ]
    }
   ],
   "source": [
    "products=[\n",
    "\t{'id':1,'name':'Marker Pen', 'category':'st'},\n",
    "\t{'id':2,'name':'Sugar', 'category':'gr'},\n",
    "\t{'id':3,'name':'Pens', 'category':'st'},\n",
    "\t{'id':4,'name':'Millet', 'category':'gr'},\n",
    "\t{'id':5,'name':'Duster', 'category':'st'},\n",
    "\t{'id':6,'name':'Dal', 'category':'gr'}\n",
    "]\n",
    "def filterdata(product):\n",
    "    if product['category'] =='gr':\n",
    "        return True\n",
    "    else:\n",
    "        return False\n",
    "\n",
    "#print(list(filter(filterdata,products)))\n",
    "filter_obj=filter(filterdata,products)\n",
    "st_products=list(filter_obj)\n",
    "print(st_products)"
   ]
  },
  {
   "cell_type": "code",
   "execution_count": 9,
   "id": "4ad5cc57",
   "metadata": {},
   "outputs": [
    {
     "ename": "SyntaxError",
     "evalue": "'return' outside function (3450010405.py, line 11)",
     "output_type": "error",
     "traceback": [
      "\u001b[1;36m  File \u001b[1;32m\"C:\\Users\\jahna\\AppData\\Local\\Temp\\ipykernel_27708\\3450010405.py\"\u001b[1;36m, line \u001b[1;32m11\u001b[0m\n\u001b[1;33m    return True\u001b[0m\n\u001b[1;37m    ^\u001b[0m\n\u001b[1;31mSyntaxError\u001b[0m\u001b[1;31m:\u001b[0m 'return' outside function\n"
     ]
    }
   ],
   "source": [
    "#using lambda function\n",
    "products=[\n",
    "\t{'id':1,'name':'Marker Pen', 'category':'st'},\n",
    "\t{'id':2,'name':'Sugar', 'category':'gr'},\n",
    "\t{'id':3,'name':'Pens', 'category':'st'},\n",
    "\t{'id':4,'name':'Millet', 'category':'gr'},\n",
    "\t{'id':5,'name':'Duster', 'category':'st'},\n",
    "\t{'id':6,'name':'Dal', 'category':'gr'}\n",
    "]\n",
    "if product['category'] =='st':\n",
    "    return True\n",
    "else:\n",
    "    return False\n",
    "filter_obj=filter(lambda product:product['category']=='st',products)\n",
    "st_products=list(filter_obj)\n",
    "print(st_products)"
   ]
  },
  {
   "cell_type": "code",
   "execution_count": 10,
   "id": "ca8a9ce6",
   "metadata": {},
   "outputs": [
    {
     "name": "stdout",
     "output_type": "stream",
     "text": [
      "[2, 4, 6, 8, 10]\n"
     ]
    }
   ],
   "source": [
    "numbers=[1,2,3,4,5,6,7,8,9,10]\n",
    "def filterdata(num):\n",
    "    return num%2==0\n",
    "filter_obj=filter(filterdata,numbers)\n",
    "even_numbers=list(filter_obj)\n",
    "print(even_numbers)"
   ]
  },
  {
   "cell_type": "code",
   "execution_count": null,
   "id": "7bf9c8ea",
   "metadata": {},
   "outputs": [],
   "source": [
    "#by using lambda\n",
    "numbers=[1,2,3,4,5,6,7,8,9,10]\n",
    "filter_obj=filter(lambda num:num%2 ==0,numbers)\n",
    "\n"
   ]
  }
 ],
 "metadata": {
  "kernelspec": {
   "display_name": "Python 3 (ipykernel)",
   "language": "python",
   "name": "python3"
  },
  "language_info": {
   "codemirror_mode": {
    "name": "ipython",
    "version": 3
   },
   "file_extension": ".py",
   "mimetype": "text/x-python",
   "name": "python",
   "nbconvert_exporter": "python",
   "pygments_lexer": "ipython3",
   "version": "3.7.6"
  }
 },
 "nbformat": 4,
 "nbformat_minor": 5
}
