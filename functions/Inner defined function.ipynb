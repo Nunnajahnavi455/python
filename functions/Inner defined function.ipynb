{
 "cells": [
  {
   "cell_type": "code",
   "execution_count": 1,
   "id": "7f9fc79e",
   "metadata": {},
   "outputs": [
    {
     "name": "stdout",
     "output_type": "stream",
     "text": [
      "GM\n"
     ]
    }
   ],
   "source": [
    "def outer():\n",
    "    print('GM')\n",
    "    def inner():\n",
    "        print('GA')\n",
    "outer()"
   ]
  },
  {
   "cell_type": "code",
   "execution_count": 3,
   "id": "837a8ff5",
   "metadata": {},
   "outputs": [
    {
     "name": "stdout",
     "output_type": "stream",
     "text": [
      "outer function\n",
      "inner function\n",
      "inner function\n"
     ]
    }
   ],
   "source": [
    "def outer():\n",
    "    print('outer function')\n",
    "    def inner():\n",
    "        print('inner function')\n",
    "    inner()\n",
    "    inner()\n",
    "outer()\n",
    "        "
   ]
  },
  {
   "cell_type": "markdown",
   "id": "37fe5d1d",
   "metadata": {},
   "source": []
  },
  {
   "cell_type": "code",
   "execution_count": 8,
   "id": "c2b10a1c",
   "metadata": {},
   "outputs": [
    {
     "name": "stdout",
     "output_type": "stream",
     "text": [
      "outer function\n",
      "None\n"
     ]
    }
   ],
   "source": [
    "#return the function\n",
    "def outer():\n",
    "    print('outer function')\n",
    "    \n",
    "    def inner():\n",
    "        print('inner function')\n",
    "        \n",
    "        return 100\n",
    "value=outer()\n",
    "print(value)"
   ]
  },
  {
   "cell_type": "code",
   "execution_count": 13,
   "id": "c0b7d09c",
   "metadata": {},
   "outputs": [
    {
     "name": "stdout",
     "output_type": "stream",
     "text": [
      "outer function\n",
      "inner function\n",
      "inner function\n"
     ]
    }
   ],
   "source": [
    "#return the function\n",
    "def outer():\n",
    "    print('outer function')\n",
    "    \n",
    "    def inner():\n",
    "        print('inner function')\n",
    "        \n",
    "    return inner\n",
    "inner=outer()\n",
    "inner()\n",
    "inner()"
   ]
  },
  {
   "cell_type": "code",
   "execution_count": 15,
   "id": "7e84bbc2",
   "metadata": {},
   "outputs": [
    {
     "name": "stdout",
     "output_type": "stream",
     "text": [
      "101\n"
     ]
    }
   ],
   "source": [
    "#anonymus function\n",
    "def add(x):\n",
    "    return x+1\n",
    "r1=add(100)\n",
    "print(r1)"
   ]
  },
  {
   "cell_type": "code",
   "execution_count": 16,
   "id": "8cbd72de",
   "metadata": {},
   "outputs": [
    {
     "name": "stdout",
     "output_type": "stream",
     "text": [
      "101\n"
     ]
    }
   ],
   "source": [
    " x=lambda x:x+1 #{lambda means nameless function}\n",
    "r1=add(100)\n",
    "print(r1)"
   ]
  },
  {
   "cell_type": "code",
   "execution_count": 18,
   "id": "a39e4ea0",
   "metadata": {},
   "outputs": [
    {
     "name": "stdout",
     "output_type": "stream",
     "text": [
      "<class 'int'>\n",
      "<class 'function'>\n"
     ]
    }
   ],
   "source": [
    "a=100\n",
    "def add(a,b):\n",
    "    print(a+b)\n",
    "print(type(a))\n",
    "print(type(add))"
   ]
  },
  {
   "cell_type": "code",
   "execution_count": 20,
   "id": "17e722b8",
   "metadata": {},
   "outputs": [
    {
     "name": "stdout",
     "output_type": "stream",
     "text": [
      "30\n"
     ]
    }
   ],
   "source": [
    "#converting normal function to lambda function\n",
    "def add(a,b):\n",
    "    return a+b\n",
    "r1=add(10,20)\n",
    "print(r1)"
   ]
  },
  {
   "cell_type": "code",
   "execution_count": 21,
   "id": "5fe78aca",
   "metadata": {},
   "outputs": [
    {
     "name": "stdout",
     "output_type": "stream",
     "text": [
      "36\n"
     ]
    }
   ],
   "source": [
    "#map function     \n",
    "def addplus(mark):  #map is used to execute provided function for every element of sequence.\n",
    "    return mark+1\n",
    "print(addplus(35))"
   ]
  },
  {
   "cell_type": "code",
   "execution_count": 24,
   "id": "e82cd2c9",
   "metadata": {},
   "outputs": [
    {
     "name": "stdout",
     "output_type": "stream",
     "text": [
      "<class 'map'>\n",
      "[35, 11, 16]\n"
     ]
    }
   ],
   "source": [
    "marks=[34,10,15]\n",
    "obj=map(addplus,marks)\n",
    "print(type(obj))\n",
    "print(list(obj))"
   ]
  },
  {
   "cell_type": "code",
   "execution_count": 1,
   "id": "2e48227e",
   "metadata": {},
   "outputs": [
    {
     "name": "stdout",
     "output_type": "stream",
     "text": [
      "rahul\n"
     ]
    }
   ],
   "source": [
    "#lambda example\n",
    "def update(name):\n",
    "    return name.lower()\n",
    "name=update('Rahul')\n",
    "print(name)"
   ]
  },
  {
   "cell_type": "code",
   "execution_count": 2,
   "id": "96eefb6d",
   "metadata": {},
   "outputs": [
    {
     "name": "stdout",
     "output_type": "stream",
     "text": [
      "<class 'int'>\n",
      "<class 'function'>\n",
      "rahul\n"
     ]
    }
   ],
   "source": [
    "a=100\n",
    "update=lambda  name:name.lower()\n",
    "print(type(a))  #<class,int>\n",
    "print(type(update))  #<class,function>\n",
    "name=update('Rahul')\n",
    "print(name)"
   ]
  },
  {
   "cell_type": "code",
   "execution_count": 5,
   "id": "1556c6aa",
   "metadata": {},
   "outputs": [
    {
     "name": "stdout",
     "output_type": "stream",
     "text": [
      "2\n"
     ]
    }
   ],
   "source": [
    "#map function\n",
    "numbers=[10,20,30,40]\n",
    "def addplus(num):\n",
    "    return num+1\n",
    "r1=addplus(1)\n",
    "print(r1)"
   ]
  },
  {
   "cell_type": "code",
   "execution_count": 8,
   "id": "67823fd8",
   "metadata": {},
   "outputs": [
    {
     "name": "stdout",
     "output_type": "stream",
     "text": [
      "[11, 21, 31, 41]\n"
     ]
    }
   ],
   "source": [
    "map_obj=map(addplus,numbers)\n",
    "new_numbers=list(map_obj)\n",
    "print(new_numbers)"
   ]
  },
  {
   "cell_type": "code",
   "execution_count": 10,
   "id": "930fbc73",
   "metadata": {},
   "outputs": [
    {
     "name": "stdout",
     "output_type": "stream",
     "text": [
      "[10, 20, 30, 40]\n",
      "[11, 21, 31, 41]\n"
     ]
    }
   ],
   "source": [
    "numbers=[10,20,30,40]\n",
    "def addplus(num):\n",
    "    return num+1\n",
    "map_obj=map(addplus,numbers)\n",
    "new_numbers=list(map_obj)\n",
    "print(numbers)\n",
    "print(new_numbers)"
   ]
  },
  {
   "cell_type": "code",
   "execution_count": 11,
   "id": "5de78c99",
   "metadata": {},
   "outputs": [
    {
     "name": "stdout",
     "output_type": "stream",
     "text": [
      "[10, 20, 30, 40]\n",
      "[11, 21, 31, 41]\n"
     ]
    }
   ],
   "source": [
    "numbers=[10,20,30,40]\n",
    "#add 1 to every element and create new list\n",
    "map_obj=map(lambda num:num+1,numbers)\n",
    "print(numbers)\n",
    "print(new_numbers)"
   ]
  },
  {
   "cell_type": "code",
   "execution_count": 15,
   "id": "70dbac1c",
   "metadata": {},
   "outputs": [
    {
     "name": "stdout",
     "output_type": "stream",
     "text": [
      "[100, 50, 20, 30, 500, 600, 2000]\n",
      "[100, 50, 20, 30, 500, 600]\n"
     ]
    }
   ],
   "source": [
    "#filter example:-\n",
    "product_prices=[100,50,20,30,500,600,2000]\n",
    "#display all product prices below 1000\n",
    "new_prices=[]\n",
    "for price in product_prices:\n",
    "    if price <=1000:\n",
    "        new_prices.append(price)\n",
    "print(product_prices)\n",
    "print(new_prices)"
   ]
  },
  {
   "cell_type": "code",
   "execution_count": 16,
   "id": "9f083117",
   "metadata": {},
   "outputs": [
    {
     "name": "stdout",
     "output_type": "stream",
     "text": [
      "[1000, 50, 20, 30, 500, 600, 2000]\n",
      "[50, 20, 30, 500, 600]\n"
     ]
    }
   ],
   "source": [
    "product_prices=[1000,50,20,30,500,600,2000]\n",
    "#display all product prices below 1000\n",
    "def filterdata(price):\n",
    "    return price<1000\n",
    "new_prices=list(filter(filterdata,product_prices))\n",
    "print(product_prices)\n",
    "print(new_prices)\n"
   ]
  },
  {
   "cell_type": "code",
   "execution_count": 17,
   "id": "b0022a26",
   "metadata": {},
   "outputs": [
    {
     "name": "stdout",
     "output_type": "stream",
     "text": [
      "24\n"
     ]
    }
   ],
   "source": [
    "#users data\n",
    "users=[{'eid':1,'ename':'Nixie','email':'nmacquist0@walmart.com','gender':'Female'},\n",
    "{'eid':2,'ename':'Joyce','email':'jnoell1@earthlink.net','gender':'Female'},\n",
    "{'eid':3,'ename':'Barron','email':'bmccullen2@senate.gov','gender':'Male'},\n",
    "{'eid':4,'ename':'Claudie','email':'cwale3@reverbnation.com','gender':'Female'},\n",
    "{'eid':5,'ename':'Damiano','email':'dbourley4@cdbaby.com','gender':'Non-binary'},\n",
    "{'eid':6,'ename':'Maxi','email':'mmanuely5@miitbeian.gov.cn','gender':'Female'},\n",
    "{'eid':7,'ename':'Augusta','email':'ahanham6@163.com','gender':'Female'},\n",
    "{'eid':8,'ename':'Trixy','email':'tstockney7@examiner.com','gender':'Female'},\n",
    "{'eid':9,'ename':'Karalee','email':'kimpson8@amazon.co.uk','gender':'Female'},\n",
    "{'eid':10,'ename':'Jodee','email':'jpresidey9@sohu.com','gender':'Female'},\n",
    "{'eid':11,'ename':'Johnath','email':'jpaintera@telegraph.co.uk','gender':'Female'},\n",
    "{'eid':12,'ename':'Delmer','email':'dgeppb@bloglovin.com','gender':'Male'},\n",
    "{'eid':13,'ename':'Penny','email':'pcollenc@nba.com','gender':'Male'},\n",
    "{'eid':14,'ename':'Regina','email':'rtunnockd@squidoo.com','gender':'Genderqueer'},\n",
    "{'eid':15,'ename':'Vanni','email':'vhaslocke@cocolog-nifty.com','gender':'Female'},\n",
    "{'eid':16,'ename':'Salomone','email':'slabordef@behance.net','gender':'Male'},\n",
    "{'eid':17,'ename':'Ailene','email':'akobschg@tiny.cc','gender':'Genderfluid'},\n",
    "{'eid':18,'ename':'Dane','email':'drappah@cnn.com','gender':'Male'},\n",
    "{'eid':19,'ename':'Marietta','email':'mkinetoni@alibaba.com','gender':'Female'},\n",
    "{'eid':20,'ename':'Becky','email':'blowethj@google.de','gender':'Non-binary'},\n",
    "{'eid':21,'ename':'Aldwin','email':'acanonk@google.co.jp','gender':'Male'},\n",
    "{'eid':22,'ename':'Claiborn','email':'crhymerl@ow.ly','gender':'Male'},\n",
    "{'eid':23,'ename':'Isa','email':'iberndtssenm@yahoo.com','gender':'Male'},\n",
    "{'eid':24,'ename':'Pooh','email':'pwittmann@google.co.jp','gender':'Male'},\n",
    "{'eid':25,'ename':'Arielle','email':'apinchino@163.com','gender':'Genderfluid'},\n",
    "{'eid':26,'ename':'Gerry','email':'gtiltp@diigo.com','gender':'Male'},\n",
    "{'eid':27,'ename':'Richmound','email':'rkilgroveq@howstuffworks.com','gender':'Male'},\n",
    "{'eid':28,'ename':'Vinnie','email':'vgrigoreyr@furl.net','gender':'Male'},\n",
    "{'eid':29,'ename':'Barret','email':'blimpertzs@dmoz.org','gender':'Male'},\n",
    "{'eid':30,'ename':'Matthias','email':'mmacshirriet@cafepress.com','gender':'Male'},\n",
    "{'eid':31,'ename':'Carlotta','email':'cfalkousu@cdc.gov','gender':'Female'},\n",
    "{'eid':32,'ename':'Lyell','email':'lcasemorev@goodreads.com','gender':'Male'},\n",
    "{'eid':33,'ename':'Chester','email':'ctiesw@mapy.cz','gender':'Male'},\n",
    "{'eid':34,'ename':'Sanson','email':'schristianx@stanford.edu','gender':'Male'},\n",
    "{'eid':35,'ename':'Rancell','email':'rgaynesfordy@skyrock.com','gender':'Male'},\n",
    "{'eid':36,'ename':'Gerek','email':'gbrozekz@paypal.com','gender':'Male'},\n",
    "{'eid':37,'ename':'Waverley','email':'wfairest10@myspace.com','gender':'Male'},\n",
    "{'eid':38,'ename':'Valene','email':'vitzig11@histats.com','gender':'Female'},\n",
    "{'eid':39,'ename':'Jeannette','email':'jsaipy12@ycombinator.com','gender':'Female'},\n",
    "{'eid':40,'ename':'Larry','email':'lredwin13@ftc.gov','gender':'Genderqueer'},\n",
    "{'eid':41,'ename':'Sherwynd','email':'sartrick14@ca.gov','gender':'Male'},\n",
    "{'eid':42,'ename':'June','email':'jwinning15@list-manage.com','gender':'Genderqueer'},\n",
    "{'eid':43,'ename':'Hi','email':'hcorrado16@symantec.com','gender':'Male'},\n",
    "{'eid':44,'ename':'Virgie','email':'vmaunsell17@odnoklassniki.ru','gender':'Male'},\n",
    "{'eid':45,'ename':'Rosamond','email':'rschwaiger18@shinystat.com','gender':'Genderqueer'},\n",
    "{'eid':46,'ename':'Elaina','email':'esertin19@histats.com','gender':'Female'},\n",
    "{'eid':47,'ename':'Mable','email':'mgai1a@blog.com','gender':'Female'},\n",
    "{'eid':48,'ename':'Wash','email':'wklisch1b@wufoo.com','gender':'Male'},\n",
    "{'eid':49,'ename':'Herman','email':'hwilgar1c@aol.com','gender':'Non-binary'},\n",
    "{'eid':50,'ename':'Dee dee','email':'dcooke1d@nationalgeographic.com','gender':'Female'}]\n",
    "\n",
    "new_users=list(filter(lambda user:user['gender']=='Male',users))\n",
    "print(len(new_users))"
   ]
  },
  {
   "cell_type": "code",
   "execution_count": null,
   "id": "ef309e36",
   "metadata": {},
   "outputs": [],
   "source": [
    "#how many employess names  are start with k,A ."
   ]
  },
  {
   "cell_type": "code",
   "execution_count": 8,
   "id": "da64016d",
   "metadata": {},
   "outputs": [
    {
     "name": "stdout",
     "output_type": "stream",
     "text": [
      "[100]\n",
      "[100, 400]\n",
      "[100, 400, 900]\n",
      "[100, 400, 900, 1600]\n"
     ]
    }
   ],
   "source": [
    "#example without using map function\n",
    "numbers=[10,20,30,40]\n",
    "new_numbers=[]\n",
    "for num in numbers:\n",
    "    new_numbers.append(num*num)\n",
    "    print(new_numbers)"
   ]
  },
  {
   "cell_type": "code",
   "execution_count": 11,
   "id": "ced9f264",
   "metadata": {},
   "outputs": [
    {
     "name": "stdout",
     "output_type": "stream",
     "text": [
      "<map object at 0x0000022CE1B22AC8>\n",
      "(100, 400, 900, 1600, 2500)\n",
      "[]\n"
     ]
    }
   ],
   "source": [
    "#using map function\n",
    "numbers=[10,20,30,40,50]\n",
    "def lazy(num):\n",
    "    return num*num\n",
    "map_obj=map(lazy,numbers)\n",
    "print(map_obj)\n",
    "\n",
    "print(tuple(map_obj))\n",
    "print(list(map_obj))"
   ]
  },
  {
   "cell_type": "code",
   "execution_count": 12,
   "id": "8fdd0089",
   "metadata": {},
   "outputs": [
    {
     "name": "stdout",
     "output_type": "stream",
     "text": [
      "[10, 20, 30, 40, 50]\n",
      "[100, 400, 900, 1600]\n"
     ]
    }
   ],
   "source": [
    "#by using lambda function\n",
    "numbers=[10,20,30,40,50]\n",
    "list(map(lambda num:num*num,numbers))\n",
    "print(numbers)\n",
    "print(new_numbers)"
   ]
  },
  {
   "cell_type": "code",
   "execution_count": 13,
   "id": "bda3cdc8",
   "metadata": {},
   "outputs": [
    {
     "ename": "SyntaxError",
     "evalue": "unexpected EOF while parsing (3784047924.py, line 235)",
     "output_type": "error",
     "traceback": [
      "\u001b[1;36m  File \u001b[1;32m\"C:\\Users\\jahna\\AppData\\Local\\Temp\\ipykernel_9360\\3784047924.py\"\u001b[1;36m, line \u001b[1;32m235\u001b[0m\n\u001b[1;33m    for emp in employees:\u001b[0m\n\u001b[1;37m                         ^\u001b[0m\n\u001b[1;31mSyntaxError\u001b[0m\u001b[1;31m:\u001b[0m unexpected EOF while parsing\n"
     ]
    }
   ],
   "source": [
    "#employee data example\n",
    "emploees=[\n",
    "{\n",
    "'id': 1,\n",
    "'name': 'Leanne Graham',\n",
    "'username': 'Bret',\n",
    "'email': 'Sincere@april.biz',\n",
    "'address': {\n",
    "'street': 'Kulas Light',\n",
    "'suite': 'Apt. 556',\n",
    "'city': 'Gwenborough',\n",
    "'zipcode': '92998-3874',\n",
    "'geo': {\n",
    "'lat': '-37.3159',\n",
    "'lng': '81.1496'\n",
    "}\n",
    "},\n",
    "'phone': '1-770-736-8031 x56442',\n",
    "'website': 'hildegard.org',\n",
    "'company': {\n",
    "'name': 'Romaguera-Crona',\n",
    "'catchPhrase': 'Multi-layered client-server neural-net',\n",
    "'bs': 'harness real-time e-markets'\n",
    "}\n",
    "},\n",
    "{\n",
    "'id': 2,\n",
    "'name': 'Ervin Howell',\n",
    "'username': 'Antonette',\n",
    "'email': 'Shanna@melissa.tv',\n",
    "'address': {\n",
    "'street': 'Victor Plains',\n",
    "'suite': 'Suite 879',\n",
    "'city': 'Wisokyburgh',\n",
    "'zipcode': '90566-7771',\n",
    "'geo': {\n",
    "'lat': '-43.9509',\n",
    "'lng': '-34.4618'\n",
    "}\n",
    "},\n",
    "'phone': '010-692-6593 x09125',\n",
    "'website': 'anastasia.net',\n",
    "'company': {\n",
    "'name': 'Deckow-Crist',\n",
    "'catchPhrase': 'Proactive didactic contingency',\n",
    "'bs': 'synergize scalable supply-chains'\n",
    "}\n",
    "},\n",
    "{\n",
    "'id': 3,\n",
    "'name': 'Clementine Bauch',\n",
    "'username': 'Samantha',\n",
    "'email': 'Nathan@yesenia.net',\n",
    "'address': {\n",
    "'street': 'Douglas Extension',\n",
    "'suite': 'Suite 847',\n",
    "'city': 'McKenziehaven',\n",
    "'zipcode': '59590-4157',\n",
    "'geo': {\n",
    "'lat': '-68.6102',\n",
    "'lng': '-47.0653'\n",
    "}\n",
    "},\n",
    "'phone': '1-463-123-4447',\n",
    "'website': 'ramiro.info',\n",
    "'company': {\n",
    "'name': 'Romaguera-Jacobson',\n",
    "'catchPhrase': 'Face to face bifurcated interface',\n",
    "'bs': 'e-enable strategic applications'\n",
    "}\n",
    "},\n",
    "{\n",
    "'id': 4,\n",
    "'name': 'Patricia Lebsack',\n",
    "'username': 'Karianne',\n",
    "'email': 'Julianne.OConner@kory.org',\n",
    "'address': {\n",
    "'street': 'Hoeger Mall',\n",
    "'suite': 'Apt. 692',\n",
    "'city': 'South Elvis',\n",
    "'zipcode': '53919-4257',\n",
    "'geo': {\n",
    "'lat': '29.4572',\n",
    "'lng': '-164.2990'\n",
    "}\n",
    "},\n",
    "'phone': '493-170-9623 x156',\n",
    "'website': 'kale.biz',\n",
    "'company': {\n",
    "'name': 'Robel-Corkery',\n",
    "'catchPhrase': 'Multi-tiered zero tolerance productivity',\n",
    "'bs': 'transition cutting-edge web services'\n",
    "}\n",
    "},\n",
    "{\n",
    "'id': 5,\n",
    "'name': 'Chelsey Dietrich',\n",
    "'username': 'Kamren',\n",
    "'email': 'Lucio_Hettinger@annie.ca',\n",
    "'address': {\n",
    "'street': 'Skiles Walks',\n",
    "'suite': 'Suite 351',\n",
    "'city': 'Roscoeview',\n",
    "'zipcode': '33263',\n",
    "'geo': {\n",
    "'lat': '-31.8129',\n",
    "'lng': '62.5342'\n",
    "}\n",
    "},\n",
    "'phone': '(254)954-1289',\n",
    "'website': 'demarco.info',\n",
    "'company': {\n",
    "'name': 'Keebler LLC',\n",
    "'catchPhrase': 'User-centric fault-tolerant solution',\n",
    "'bs': 'revolutionize end-to-end systems'\n",
    "}\n",
    "},\n",
    "{\n",
    "'id': 6,\n",
    "'name': 'Mrs. Dennis Schulist',\n",
    "'username': 'Leopoldo_Corkery',\n",
    "'email': 'Karley_Dach@jasper.info',\n",
    "'address': {\n",
    "'street': 'Norberto Crossing',\n",
    "'suite': 'Apt. 950',\n",
    "'city': 'South Christy',\n",
    "'zipcode': '23505-1337',\n",
    "'geo': {\n",
    "'lat': '-71.4197',\n",
    "'lng': '71.7478'\n",
    "}\n",
    "},\n",
    "'phone': '1-477-935-8478 x6430',\n",
    "'website': 'ola.org',\n",
    "'company': {\n",
    "'name': 'Considine-Lockman',\n",
    "'catchPhrase': 'Synchronised bottom-line interface',\n",
    "'bs': 'e-enable innovative applications'\n",
    "}\n",
    "},\n",
    "{\n",
    "'id': 7,\n",
    "'name': 'Kurtis Weissnat',\n",
    "'username': 'Elwyn.Skiles',\n",
    "'email': 'Telly.Hoeger@billy.biz',\n",
    "'address': {\n",
    "'street': 'Rex Trail',\n",
    "'suite': 'Suite 280',\n",
    "'city': 'Howemouth',\n",
    "'zipcode': '58804-1099',\n",
    "'geo': {\n",
    "'lat': '24.8918',\n",
    "'lng': '21.8984'\n",
    "}\n",
    "},\n",
    "'phone': '210.067.6132',\n",
    "'website': 'elvis.io',\n",
    "'company': {\n",
    "'name': 'Johns Group',\n",
    "'catchPhrase': 'Configurable multimedia task-force',\n",
    "'bs': 'generate enterprise e-tailers'\n",
    "}\n",
    "},\n",
    "{\n",
    "'id': 8,\n",
    "'name': 'Nicholas Runolfsdottir V',\n",
    "'username': 'Maxime_Nienow',\n",
    "'email': 'Sherwood@rosamond.me',\n",
    "'address': {\n",
    "'street': 'Ellsworth Summit',\n",
    "'suite': 'Suite 729',\n",
    "'city': 'Aliyaview',\n",
    "'zipcode': '45169',\n",
    "'geo': {\n",
    "'lat': '-14.3990',\n",
    "'lng': '-120.7677'\n",
    "}\n",
    "},\n",
    "'phone': '586.493.6943 x140',\n",
    "'website': 'jacynthe.com',\n",
    "'company': {\n",
    "'name': 'Abernathy Group',\n",
    "'catchPhrase': 'Implemented secondary concept',\n",
    "'bs': 'e-enable extensible e-tailers'\n",
    "}\n",
    "},\n",
    "{\n",
    "'id': 9,\n",
    "'name': 'Glenna Reichert',\n",
    "'username': 'Delphine',\n",
    "'email': 'Chaim_McDermott@dana.io',\n",
    "'address': {\n",
    "'street': 'Dayna Park',\n",
    "'suite': 'Suite 449',\n",
    "'city': 'Bartholomebury',\n",
    "'zipcode': '76495-3109',\n",
    "'geo': {\n",
    "'lat': '24.6463',\n",
    "'lng': '-168.8889'\n",
    "}\n",
    "},\n",
    "'phone': '(775)976-6794 x41206',\n",
    "'website': 'conrad.com',\n",
    "'company': {\n",
    "'name': 'Yost and Sons',\n",
    "'catchPhrase': 'Switchable contextually-based project',\n",
    "'bs': 'aggregate real-time technologies'\n",
    "}\n",
    "},\n",
    "{\n",
    "'id': 10,\n",
    "'name': 'Clementina DuBuque',\n",
    "'username': 'Moriah.Stanton',\n",
    "'email': 'Rey.Padberg@karina.biz',\n",
    "'address': {\n",
    "'street': 'Kattie Turnpike',\n",
    "'suite': 'Suite 198',\n",
    "'city': 'Lebsackbury',\n",
    "'zipcode': '31428-2261',\n",
    "'geo': {\n",
    "'lat': '-38.2386',\n",
    "'lng': '57.2232'\n",
    "}\n",
    "},\n",
    "'phone': '024-648-3804',\n",
    "'website': 'ambrose.net',\n",
    "'company': {\n",
    "'name': 'Hoeger LLC',\n",
    "'catchPhrase': 'Centralized empowering task-force',\n",
    "'bs': 'target end-to-end models'\n",
    "}\n",
    "}\n",
    "]\n",
    "new_employee_data=[]\n",
    "for emp in employees:"
   ]
  },
  {
   "cell_type": "code",
   "execution_count": 15,
   "id": "43d9e466",
   "metadata": {},
   "outputs": [
    {
     "name": "stdout",
     "output_type": "stream",
     "text": [
      "{'id': 101, 'name': 'Rahul', 'sal': 45000}\n",
      "{'id': 101, 'name': 'Rahul'}\n"
     ]
    }
   ],
   "source": [
    "#how to create dict object\n",
    "emp={\n",
    "    'id':101,\n",
    "    'name':'Rahul',\n",
    "    'sal':45000\n",
    "}\n",
    "user={}\n",
    "user['id']=emp['id']\n",
    "user['name']=emp['name']\n",
    "print(emp)\n",
    "print(user)"
   ]
  },
  {
   "cell_type": "code",
   "execution_count": 4,
   "id": "ab29d8ce",
   "metadata": {},
   "outputs": [
    {
     "ename": "TypeError",
     "evalue": "string indices must be integers",
     "output_type": "error",
     "traceback": [
      "\u001b[1;31m---------------------------------------------------------------------------\u001b[0m",
      "\u001b[1;31mTypeError\u001b[0m                                 Traceback (most recent call last)",
      "\u001b[1;32m~\\AppData\\Local\\Temp\\ipykernel_34836\\1144540739.py\u001b[0m in \u001b[0;36m<module>\u001b[1;34m\u001b[0m\n\u001b[0;32m      7\u001b[0m \u001b[0mnew_emp_data\u001b[0m\u001b[1;33m=\u001b[0m\u001b[1;33m[\u001b[0m\u001b[1;33m]\u001b[0m\u001b[1;33m\u001b[0m\u001b[1;33m\u001b[0m\u001b[0m\n\u001b[0;32m      8\u001b[0m \u001b[1;32mfor\u001b[0m \u001b[0memp\u001b[0m \u001b[1;32min\u001b[0m \u001b[0memployees\u001b[0m\u001b[1;33m:\u001b[0m\u001b[1;33m\u001b[0m\u001b[1;33m\u001b[0m\u001b[0m\n\u001b[1;32m----> 9\u001b[1;33m     \u001b[0muser\u001b[0m\u001b[1;33m=\u001b[0m\u001b[1;33m{\u001b[0m\u001b[1;34m'id'\u001b[0m\u001b[1;33m:\u001b[0m\u001b[0memp\u001b[0m\u001b[1;33m[\u001b[0m\u001b[1;34m'id'\u001b[0m\u001b[1;33m]\u001b[0m\u001b[1;33m,\u001b[0m\u001b[1;34m'name'\u001b[0m\u001b[1;33m:\u001b[0m\u001b[0memp\u001b[0m\u001b[1;33m[\u001b[0m\u001b[1;34m'name'\u001b[0m\u001b[1;33m]\u001b[0m\u001b[1;33m}\u001b[0m\u001b[1;33m\u001b[0m\u001b[1;33m\u001b[0m\u001b[0m\n\u001b[0m\u001b[0;32m     10\u001b[0m \u001b[1;33m\u001b[0m\u001b[0m\n\u001b[0;32m     11\u001b[0m     \u001b[0mnew_emp_data\u001b[0m\u001b[1;33m.\u001b[0m\u001b[0mappend\u001b[0m\u001b[1;33m(\u001b[0m\u001b[0muser\u001b[0m\u001b[1;33m)\u001b[0m\u001b[1;33m\u001b[0m\u001b[1;33m\u001b[0m\u001b[0m\n",
      "\u001b[1;31mTypeError\u001b[0m: string indices must be integers"
     ]
    }
   ],
   "source": [
    "#print dict object\n",
    "employees={\n",
    "    'id':101,\n",
    "    'name':'Rahul',\n",
    "    'sal':45000\n",
    "   }\n",
    "new_emp_data=[]\n",
    "for emp in employees:\n",
    "    user={'id':emp['id'],'name':emp['name']}\n",
    "    \n",
    "    new_emp_data.append(user)\n",
    "    \n",
    "print(new_emp_data)\n",
    "    \n"
   ]
  },
  {
   "cell_type": "code",
   "execution_count": 8,
   "id": "59a74b2d",
   "metadata": {},
   "outputs": [
    {
     "ename": "TypeError",
     "evalue": "string indices must be integers",
     "output_type": "error",
     "traceback": [
      "\u001b[1;31m---------------------------------------------------------------------------\u001b[0m",
      "\u001b[1;31mTypeError\u001b[0m                                 Traceback (most recent call last)",
      "\u001b[1;32m~\\AppData\\Local\\Temp\\ipykernel_34836\\3984351582.py\u001b[0m in \u001b[0;36m<module>\u001b[1;34m\u001b[0m\n\u001b[0;32m      2\u001b[0m \u001b[1;32mfor\u001b[0m \u001b[0memp\u001b[0m \u001b[1;32min\u001b[0m \u001b[0memployees\u001b[0m\u001b[1;33m:\u001b[0m\u001b[1;33m\u001b[0m\u001b[1;33m\u001b[0m\u001b[0m\n\u001b[0;32m      3\u001b[0m     \u001b[0muser\u001b[0m\u001b[1;33m=\u001b[0m\u001b[1;33m{\u001b[0m\u001b[1;33m}\u001b[0m\u001b[1;33m\u001b[0m\u001b[1;33m\u001b[0m\u001b[0m\n\u001b[1;32m----> 4\u001b[1;33m     \u001b[0muser\u001b[0m\u001b[1;33m[\u001b[0m\u001b[1;34m'id'\u001b[0m\u001b[1;33m]\u001b[0m\u001b[1;33m=\u001b[0m\u001b[0memp\u001b[0m\u001b[1;33m[\u001b[0m\u001b[1;34m'id'\u001b[0m\u001b[1;33m]\u001b[0m\u001b[1;33m\u001b[0m\u001b[1;33m\u001b[0m\u001b[0m\n\u001b[0m\u001b[0;32m      5\u001b[0m     \u001b[0muser\u001b[0m\u001b[1;33m[\u001b[0m\u001b[1;34m'name'\u001b[0m\u001b[1;33m]\u001b[0m\u001b[1;33m=\u001b[0m\u001b[0memp\u001b[0m\u001b[1;33m[\u001b[0m\u001b[1;34m'name'\u001b[0m\u001b[1;33m]\u001b[0m\u001b[1;33m\u001b[0m\u001b[1;33m\u001b[0m\u001b[0m\n\u001b[0;32m      6\u001b[0m     \u001b[0mnew_emp_data\u001b[0m\u001b[1;33m.\u001b[0m\u001b[0mappend\u001b[0m\u001b[1;33m(\u001b[0m\u001b[0muser\u001b[0m\u001b[1;33m)\u001b[0m\u001b[1;33m\u001b[0m\u001b[1;33m\u001b[0m\u001b[0m\n",
      "\u001b[1;31mTypeError\u001b[0m: string indices must be integers"
     ]
    }
   ],
   "source": [
    "new_emp_data=[]\n",
    "for emp in employees:\n",
    "    user={}\n",
    "    user['id']=emp['id']\n",
    "    user['name']=emp['name']\n",
    "    new_emp_data.append(user)\n",
    "    \n",
    "print(new_emp_data)\n",
    "    "
   ]
  },
  {
   "cell_type": "code",
   "execution_count": 6,
   "id": "45dae387",
   "metadata": {},
   "outputs": [
    {
     "name": "stdout",
     "output_type": "stream",
     "text": [
      "[99, 199, 299, 399, 499]\n"
     ]
    }
   ],
   "source": [
    "product_prices=[100,200,300,400,500]\n",
    "new_prices=[]\n",
    "for price in product_prices:\n",
    "    new_prices.append(price-1)\n",
    "    \n",
    "print(new_prices)"
   ]
  },
  {
   "cell_type": "code",
   "execution_count": 5,
   "id": "bee761fd",
   "metadata": {},
   "outputs": [
    {
     "name": "stdout",
     "output_type": "stream",
     "text": [
      "[{'id': 101, 'name': 'Rahul'}]\n"
     ]
    }
   ],
   "source": [
    "employees = {\n",
    "    'id': 101,\n",
    "    'name': 'Rahul',\n",
    "    'sal': 45000\n",
    "}\n",
    "\n",
    "new_emp_data = []\n",
    "\n",
    "# Accessing the values directly from the dictionary\n",
    "user = {'id': employees['id'], 'name': employees['name']}\n",
    "\n",
    "new_emp_data.append(user)\n",
    "\n",
    "print(new_emp_data)\n"
   ]
  },
  {
   "cell_type": "code",
   "execution_count": 9,
   "id": "3ed6b26b",
   "metadata": {},
   "outputs": [
    {
     "name": "stdout",
     "output_type": "stream",
     "text": [
      "[2, 2, 2, 2, 2]\n",
      "set()\n",
      "()\n"
     ]
    }
   ],
   "source": [
    "#map function\n",
    "numbers=[1,1,1,1,1]\n",
    "map_obj=map(lambda num:num+1,numbers)\n",
    "l=list(map_obj)\n",
    "s=set(map_obj)\n",
    "t=tuple(map_obj)\n",
    "print(l)\n",
    "print(s)\n",
    "print(t)"
   ]
  },
  {
   "cell_type": "code",
   "execution_count": 17,
   "id": "5dd1139f",
   "metadata": {},
   "outputs": [
    {
     "name": "stdout",
     "output_type": "stream",
     "text": [
      "[2, 2, 2, 2, 2]\n",
      "set()\n",
      "()\n"
     ]
    }
   ],
   "source": [
    "#without map\n",
    "def plusone(ele):\n",
    "    return ele+1\n",
    "numbers=[1,1,1,1,1]\n",
    "map_obj=map(plusone,numbers)\n",
    "l=list(map_obj)\n",
    "s=set(map_obj)\n",
    "t=tuple(map_obj)\n",
    "print(l)\n",
    "print(s)\n",
    "print(t)\n"
   ]
  },
  {
   "cell_type": "code",
   "execution_count": null,
   "id": "97139cf3",
   "metadata": {},
   "outputs": [],
   "source": []
  }
 ],
 "metadata": {
  "kernelspec": {
   "display_name": "Python 3 (ipykernel)",
   "language": "python",
   "name": "python3"
  },
  "language_info": {
   "codemirror_mode": {
    "name": "ipython",
    "version": 3
   },
   "file_extension": ".py",
   "mimetype": "text/x-python",
   "name": "python",
   "nbconvert_exporter": "python",
   "pygments_lexer": "ipython3",
   "version": "3.7.6"
  }
 },
 "nbformat": 4,
 "nbformat_minor": 5
}
