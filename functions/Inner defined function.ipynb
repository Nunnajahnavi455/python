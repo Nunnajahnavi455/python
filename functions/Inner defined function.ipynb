{
 "cells": [
  {
   "cell_type": "code",
   "execution_count": 1,
   "id": "791d41ce",
   "metadata": {},
   "outputs": [
    {
     "name": "stdout",
     "output_type": "stream",
     "text": [
      "GM\n"
     ]
    }
   ],
   "source": [
    "def outer():\n",
    "    print('GM')\n",
    "    def inner():\n",
    "        print('GA')\n",
    "outer()"
   ]
  },
  {
   "cell_type": "code",
   "execution_count": 3,
   "id": "a73be087",
   "metadata": {},
   "outputs": [
    {
     "name": "stdout",
     "output_type": "stream",
     "text": [
      "outer function\n",
      "inner function\n",
      "inner function\n"
     ]
    }
   ],
   "source": [
    "def outer():\n",
    "    print('outer function')\n",
    "    def inner():\n",
    "        print('inner function')\n",
    "    inner()\n",
    "    inner()\n",
    "outer()\n",
    "        "
   ]
  },
  {
   "cell_type": "markdown",
   "id": "978a8314",
   "metadata": {},
   "source": []
  },
  {
   "cell_type": "code",
   "execution_count": 8,
   "id": "49574534",
   "metadata": {},
   "outputs": [
    {
     "name": "stdout",
     "output_type": "stream",
     "text": [
      "outer function\n",
      "None\n"
     ]
    }
   ],
   "source": [
    "#return the function\n",
    "def outer():\n",
    "    print('outer function')\n",
    "    \n",
    "    def inner():\n",
    "        print('inner function')\n",
    "        \n",
    "        return 100\n",
    "value=outer()\n",
    "print(value)"
   ]
  },
  {
   "cell_type": "code",
   "execution_count": 13,
   "id": "85e409e8",
   "metadata": {},
   "outputs": [
    {
     "name": "stdout",
     "output_type": "stream",
     "text": [
      "outer function\n",
      "inner function\n",
      "inner function\n"
     ]
    }
   ],
   "source": [
    "#return the function\n",
    "def outer():\n",
    "    print('outer function')\n",
    "    \n",
    "    def inner():\n",
    "        print('inner function')\n",
    "        \n",
    "    return inner\n",
    "inner=outer()\n",
    "inner()\n",
    "inner()"
   ]
  },
  {
   "cell_type": "code",
   "execution_count": 15,
   "id": "c188437f",
   "metadata": {},
   "outputs": [
    {
     "name": "stdout",
     "output_type": "stream",
     "text": [
      "101\n"
     ]
    }
   ],
   "source": [
    "#anonymus function\n",
    "def add(x):\n",
    "    return x+1\n",
    "r1=add(100)\n",
    "print(r1)"
   ]
  },
  {
   "cell_type": "code",
   "execution_count": 16,
   "id": "6c27be84",
   "metadata": {},
   "outputs": [
    {
     "name": "stdout",
     "output_type": "stream",
     "text": [
      "101\n"
     ]
    }
   ],
   "source": [
    " x=lambda x:x+1 #{lambda means nameless function}\n",
    "r1=add(100)\n",
    "print(r1)"
   ]
  },
  {
   "cell_type": "code",
   "execution_count": 18,
   "id": "0805ab4a",
   "metadata": {},
   "outputs": [
    {
     "name": "stdout",
     "output_type": "stream",
     "text": [
      "<class 'int'>\n",
      "<class 'function'>\n"
     ]
    }
   ],
   "source": [
    "a=100\n",
    "def add(a,b):\n",
    "    print(a+b)\n",
    "print(type(a))\n",
    "print(type(add))"
   ]
  },
  {
   "cell_type": "code",
   "execution_count": 20,
   "id": "8464ec5e",
   "metadata": {},
   "outputs": [
    {
     "name": "stdout",
     "output_type": "stream",
     "text": [
      "30\n"
     ]
    }
   ],
   "source": [
    "#converting normal function to lambda function\n",
    "def add(a,b):\n",
    "    return a+b\n",
    "r1=add(10,20)\n",
    "print(r1)"
   ]
  },
  {
   "cell_type": "code",
   "execution_count": 21,
   "id": "08091d00",
   "metadata": {},
   "outputs": [
    {
     "name": "stdout",
     "output_type": "stream",
     "text": [
      "36\n"
     ]
    }
   ],
   "source": [
    "#map function     \n",
    "def addplus(mark):  #map is used to execute provided function for every element of sequence.\n",
    "    return mark+1\n",
    "print(addplus(35))"
   ]
  },
  {
   "cell_type": "code",
   "execution_count": 24,
   "id": "b73c217f",
   "metadata": {},
   "outputs": [
    {
     "name": "stdout",
     "output_type": "stream",
     "text": [
      "<class 'map'>\n",
      "[35, 11, 16]\n"
     ]
    }
   ],
   "source": [
    "marks=[34,10,15]\n",
    "obj=map(addplus,marks)\n",
    "print(type(obj))\n",
    "print(list(obj))"
   ]
  },
  {
   "cell_type": "code",
   "execution_count": null,
   "id": "038ebcf0",
   "metadata": {},
   "outputs": [],
   "source": []
  }
 ],
 "metadata": {
  "kernelspec": {
   "display_name": "Python 3 (ipykernel)",
   "language": "python",
   "name": "python3"
  },
  "language_info": {
   "codemirror_mode": {
    "name": "ipython",
    "version": 3
   },
   "file_extension": ".py",
   "mimetype": "text/x-python",
   "name": "python",
   "nbconvert_exporter": "python",
   "pygments_lexer": "ipython3",
   "version": "3.7.6"
  }
 },
 "nbformat": 4,
 "nbformat_minor": 5
}
