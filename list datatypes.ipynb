{
 "cells": [
  {
   "cell_type": "code",
   "execution_count": 1,
   "id": "fd010cad",
   "metadata": {},
   "outputs": [
    {
     "name": "stdout",
     "output_type": "stream",
     "text": [
      "[10, 20, 30, 40, 50]\n",
      "<class 'list'>\n"
     ]
    }
   ],
   "source": [
    "#create list object\n",
    "l1=[10,20,30,40,50]\n",
    "#read list object\n",
    "print(l1)\n",
    "print(type(l1))"
   ]
  },
  {
   "cell_type": "code",
   "execution_count": 2,
   "id": "82486758",
   "metadata": {},
   "outputs": [
    {
     "name": "stdout",
     "output_type": "stream",
     "text": [
      "[10, 10, 10, 20.5, 'Rahul', True, [], {10}]\n",
      "<class 'list'>\n"
     ]
    }
   ],
   "source": [
    "l2=[10,10,10,20.5,\"Rahul\",True,[],{10}]\n",
    "print(l2)\n",
    "print(type(l2))"
   ]
  },
  {
   "cell_type": "code",
   "execution_count": 3,
   "id": "33f0225d",
   "metadata": {},
   "outputs": [
    {
     "name": "stdout",
     "output_type": "stream",
     "text": [
      "101\n",
      "102\n",
      "103\n",
      "104\n"
     ]
    }
   ],
   "source": [
    "eids=[101,102,103,104]\n",
    "#index 0 1 2 3\n",
    "#read list elements\n",
    "print(eids[0])\n",
    "print(eids[1])\n",
    "print(eids[2])\n",
    "print(eids[3])"
   ]
  },
  {
   "cell_type": "code",
   "execution_count": 4,
   "id": "745170fd",
   "metadata": {},
   "outputs": [
    {
     "name": "stdout",
     "output_type": "stream",
     "text": [
      "101\n",
      "104\n",
      "103\n",
      "102\n"
     ]
    }
   ],
   "source": [
    "eids=[101,102,103,104]\n",
    "#index 0 1 2 3\n",
    "#index-4-3-2-1\n",
    "#read list elements\n",
    "print(eids[0])\n",
    "print(eids[-1])\n",
    "print(eids[-2])\n",
    "print(eids[-3])"
   ]
  },
  {
   "cell_type": "code",
   "execution_count": 5,
   "id": "980f3d36",
   "metadata": {},
   "outputs": [
    {
     "ename": "IndexError",
     "evalue": "list index out of range",
     "output_type": "error",
     "traceback": [
      "\u001b[1;31m---------------------------------------------------------------------------\u001b[0m",
      "\u001b[1;31mIndexError\u001b[0m                                Traceback (most recent call last)",
      "\u001b[1;32m~\\AppData\\Local\\Temp\\ipykernel_2960\\3800526064.py\u001b[0m in \u001b[0;36m<module>\u001b[1;34m\u001b[0m\n\u001b[0;32m      2\u001b[0m \u001b[1;31m#inde 0 1 2 3\u001b[0m\u001b[1;33m\u001b[0m\u001b[1;33m\u001b[0m\u001b[1;33m\u001b[0m\u001b[0m\n\u001b[0;32m      3\u001b[0m \u001b[1;31m#index-4-3-2-1\u001b[0m\u001b[1;33m\u001b[0m\u001b[1;33m\u001b[0m\u001b[1;33m\u001b[0m\u001b[0m\n\u001b[1;32m----> 4\u001b[1;33m \u001b[0mprint\u001b[0m\u001b[1;33m(\u001b[0m\u001b[0meids\u001b[0m\u001b[1;33m[\u001b[0m\u001b[1;36m10\u001b[0m\u001b[1;33m]\u001b[0m\u001b[1;33m)\u001b[0m\u001b[1;33m\u001b[0m\u001b[1;33m\u001b[0m\u001b[0m\n\u001b[0m",
      "\u001b[1;31mIndexError\u001b[0m: list index out of range"
     ]
    }
   ],
   "source": [
    "eids=[101,102,103,104]\n",
    "#inde 0 1 2 3\n",
    "#index-4-3-2-1\n",
    "print(eids[10])"
   ]
  },
  {
   "cell_type": "code",
   "execution_count": 7,
   "id": "27632f02",
   "metadata": {},
   "outputs": [
    {
     "name": "stdout",
     "output_type": "stream",
     "text": [
      "Rahul\n",
      "Sonia\n",
      "Priyanka\n",
      "Modi\n"
     ]
    }
   ],
   "source": [
    "# List object using for loop\n",
    "enames=[\"Rahul\",\"Sonia\",\"Priyanka\",\"Modi\"]\n",
    "for ename in enames:\n",
    "    print(ename)"
   ]
  },
  {
   "cell_type": "code",
   "execution_count": 8,
   "id": "1e8c99fe",
   "metadata": {},
   "outputs": [
    {
     "name": "stdout",
     "output_type": "stream",
     "text": [
      "Rahul\n",
      "Sonia\n",
      "Priyanka\n",
      "Modi\n"
     ]
    }
   ],
   "source": [
    "#List object using while loop\n",
    "i=0\n",
    "while i<=3:\n",
    "    print(enames[i])\n",
    "    i=i+1"
   ]
  },
  {
   "cell_type": "code",
   "execution_count": 10,
   "id": "39b3cb50",
   "metadata": {},
   "outputs": [
    {
     "name": "stdout",
     "output_type": "stream",
     "text": [
      "225\n"
     ]
    }
   ],
   "source": [
    "#list object using for loop\n",
    "#marks=[35,36,37,38,39,40]\n",
    "#print total marks using---forloop\n",
    "marks=[35,36,37,38,39,40]\n",
    "total_marks=0\n",
    "for mark in marks:\n",
    "    total_marks=total_marks+mark\n",
    "print(total_marks)\n"
   ]
  },
  {
   "cell_type": "code",
   "execution_count": 11,
   "id": "dcfa099a",
   "metadata": {},
   "outputs": [
    {
     "name": "stdout",
     "output_type": "stream",
     "text": [
      "225\n"
     ]
    }
   ],
   "source": [
    "#List object using while loop\n",
    "marks=[35,36,37,38,39,40]\n",
    "#index  0  1  2  3  4  5\n",
    "total_marks=0\n",
    "i=0\n",
    "while i<=5:\n",
    "    total_marks=total_marks+marks[i]\n",
    "    i=i+1\n",
    "print(total_marks)\n"
   ]
  },
  {
   "cell_type": "code",
   "execution_count": 14,
   "id": "1a2523f9",
   "metadata": {},
   "outputs": [
    {
     "name": "stdout",
     "output_type": "stream",
     "text": [
      "[] [10, 20, 30, 40] [0, 1, 2, 3, 4]\n"
     ]
    }
   ],
   "source": [
    "#how to create/different ways to create  list objec\n",
    "l1=[]\n",
    "l2=[10,20,30,40]\n",
    "l3=list(range(0,5))\n",
    "print(l1,l2,l3)"
   ]
  },
  {
   "cell_type": "code",
   "execution_count": 18,
   "id": "e192fecd",
   "metadata": {},
   "outputs": [
    {
     "name": "stdout",
     "output_type": "stream",
     "text": [
      "Enter data[10,20,30,40,50]\n",
      "[10, 20, 30, 40, 50]\n",
      "<class 'list'>\n"
     ]
    }
   ],
   "source": [
    "l1=[]\n",
    "l2=[10,20,30,40]\n",
    "l3=eval(input(\"Enter data\"))\n",
    "print(l3)\n",
    "print(type(l3))"
   ]
  },
  {
   "cell_type": "code",
   "execution_count": 19,
   "id": "c3d661ee",
   "metadata": {},
   "outputs": [
    {
     "name": "stdout",
     "output_type": "stream",
     "text": [
      "1\n"
     ]
    }
   ],
   "source": [
    "enames=[\"Rahul\",\"Sonia\",\"Priyanka\",\"Modi\"]\n",
    "print(enames.index('Sonia'))"
   ]
  },
  {
   "cell_type": "code",
   "execution_count": null,
   "id": "935f0281",
   "metadata": {},
   "outputs": [],
   "source": []
  }
 ],
 "metadata": {
  "kernelspec": {
   "display_name": "Python 3 (ipykernel)",
   "language": "python",
   "name": "python3"
  },
  "language_info": {
   "codemirror_mode": {
    "name": "ipython",
    "version": 3
   },
   "file_extension": ".py",
   "mimetype": "text/x-python",
   "name": "python",
   "nbconvert_exporter": "python",
   "pygments_lexer": "ipython3",
   "version": "3.7.6"
  }
 },
 "nbformat": 4,
 "nbformat_minor": 5
}
